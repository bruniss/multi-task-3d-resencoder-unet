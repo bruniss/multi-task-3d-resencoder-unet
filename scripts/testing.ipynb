{
 "cells": [
  {
   "cell_type": "code",
   "id": "initial_id",
   "metadata": {
    "collapsed": true,
    "ExecuteTime": {
     "end_time": "2025-01-12T15:08:19.943572Z",
     "start_time": "2025-01-12T15:08:19.940607Z"
    }
   },
   "source": [
    "import tifffile\n",
    "import zarr"
   ],
   "outputs": [],
   "execution_count": 27
  },
  {
   "metadata": {
    "ExecuteTime": {
     "end_time": "2025-01-11T05:52:00.774Z",
     "start_time": "2025-01-11T05:51:59.299012Z"
    }
   },
   "cell_type": "code",
   "source": [
    "z = zarr.open('/mnt/raid_nvme/inference_out/predictions.zarr', mode='r')\n",
    "print(z.tree())\n",
    "\n",
    "norms = z['normals_final']\n",
    "sheet = z['sheet_final']\n",
    "\n",
    "s_n = norms[:,1000, :, ]\n",
    "s_s = sheet[1000]\n",
    "\n",
    "tifffile.imwrite('s_n.tif', s_n)\n",
    "tifffile.imwrite('s_s.tif', s_s)"
   ],
   "id": "852b190d4ad5d863",
   "outputs": [
    {
     "name": "stdout",
     "output_type": "stream",
     "text": [
      "/\n",
      " ├── normals_count (2000, 1500, 1750) float32\n",
      " ├── normals_final (3, 2000, 1500, 1750) uint16\n",
      " ├── normals_sum (3, 2000, 1500, 1750) float32\n",
      " ├── sheet_count (2000, 1500, 1750) float32\n",
      " ├── sheet_final (2000, 1500, 1750) uint8\n",
      " └── sheet_sum (2000, 1500, 1750) float32\n"
     ]
    }
   ],
   "execution_count": 15
  },
  {
   "metadata": {
    "ExecuteTime": {
     "end_time": "2025-01-12T15:08:49.026019Z",
     "start_time": "2025-01-12T15:08:27.321722Z"
    }
   },
   "cell_type": "code",
   "source": [
    "#raw = zarr.open('/home/sean/Documents/GitHub/VC-Surface-Models/models/normals/s4_sheet.zarr/volume.zarr', mode='r')\n",
    "raw = zarr.open(\"/home/sean/Desktop/s1_segments/1619/.zarr\", mode='r')\n",
    "t = raw['layers'][10]\n",
    "tifffile.imwrite('s4_sheet_10.tif', t)\n"
   ],
   "id": "efc93a4e24883dbc",
   "outputs": [
    {
     "ename": "AttributeError",
     "evalue": "",
     "output_type": "error",
     "traceback": [
      "\u001B[0;31m---------------------------------------------------------------------------\u001B[0m",
      "\u001B[0;31mKeyError\u001B[0m                                  Traceback (most recent call last)",
      "File \u001B[0;32m~/miniconda/envs/nnunet/lib/python3.10/site-packages/zarr/hierarchy.py:538\u001B[0m, in \u001B[0;36mGroup.__getattr__\u001B[0;34m(self, item)\u001B[0m\n\u001B[1;32m    537\u001B[0m \u001B[38;5;28;01mtry\u001B[39;00m:\n\u001B[0;32m--> 538\u001B[0m     \u001B[38;5;28;01mreturn\u001B[39;00m \u001B[38;5;28;43mself\u001B[39;49m\u001B[38;5;241;43m.\u001B[39;49m\u001B[38;5;21;43m__getitem__\u001B[39;49m\u001B[43m(\u001B[49m\u001B[43mitem\u001B[49m\u001B[43m)\u001B[49m\n\u001B[1;32m    539\u001B[0m \u001B[38;5;28;01mexcept\u001B[39;00m \u001B[38;5;167;01mKeyError\u001B[39;00m \u001B[38;5;28;01mas\u001B[39;00m e:\n",
      "File \u001B[0;32m~/miniconda/envs/nnunet/lib/python3.10/site-packages/zarr/hierarchy.py:511\u001B[0m, in \u001B[0;36mGroup.__getitem__\u001B[0;34m(self, item)\u001B[0m\n\u001B[1;32m    510\u001B[0m \u001B[38;5;28;01melse\u001B[39;00m:\n\u001B[0;32m--> 511\u001B[0m     \u001B[38;5;28;01mraise\u001B[39;00m \u001B[38;5;167;01mKeyError\u001B[39;00m(item)\n",
      "\u001B[0;31mKeyError\u001B[0m: 'shape'",
      "\nThe above exception was the direct cause of the following exception:\n",
      "\u001B[0;31mAttributeError\u001B[0m                            Traceback (most recent call last)",
      "Cell \u001B[0;32mIn[28], line 5\u001B[0m\n\u001B[1;32m      3\u001B[0m t \u001B[38;5;241m=\u001B[39m raw[\u001B[38;5;124m'\u001B[39m\u001B[38;5;124mlayers\u001B[39m\u001B[38;5;124m'\u001B[39m][\u001B[38;5;241m10\u001B[39m]\n\u001B[1;32m      4\u001B[0m tifffile\u001B[38;5;241m.\u001B[39mimwrite(\u001B[38;5;124m'\u001B[39m\u001B[38;5;124ms4_sheet_10.tif\u001B[39m\u001B[38;5;124m'\u001B[39m, t)\n\u001B[0;32m----> 5\u001B[0m \u001B[38;5;28mprint\u001B[39m(\u001B[43mraw\u001B[49m\u001B[38;5;241;43m.\u001B[39;49m\u001B[43mshape\u001B[49m)\n\u001B[1;32m      6\u001B[0m \u001B[38;5;28mprint\u001B[39m(raw\u001B[38;5;241m.\u001B[39mdtype)\n",
      "File \u001B[0;32m~/miniconda/envs/nnunet/lib/python3.10/site-packages/zarr/hierarchy.py:540\u001B[0m, in \u001B[0;36mGroup.__getattr__\u001B[0;34m(self, item)\u001B[0m\n\u001B[1;32m    538\u001B[0m     \u001B[38;5;28;01mreturn\u001B[39;00m \u001B[38;5;28mself\u001B[39m\u001B[38;5;241m.\u001B[39m\u001B[38;5;21m__getitem__\u001B[39m(item)\n\u001B[1;32m    539\u001B[0m \u001B[38;5;28;01mexcept\u001B[39;00m \u001B[38;5;167;01mKeyError\u001B[39;00m \u001B[38;5;28;01mas\u001B[39;00m e:\n\u001B[0;32m--> 540\u001B[0m     \u001B[38;5;28;01mraise\u001B[39;00m \u001B[38;5;167;01mAttributeError\u001B[39;00m \u001B[38;5;28;01mfrom\u001B[39;00m \u001B[38;5;21;01me\u001B[39;00m\n",
      "\u001B[0;31mAttributeError\u001B[0m: "
     ]
    }
   ],
   "execution_count": 28
  },
  {
   "metadata": {
    "ExecuteTime": {
     "end_time": "2025-01-11T22:14:28.950657Z",
     "start_time": "2025-01-11T22:14:28.936576Z"
    }
   },
   "cell_type": "code",
   "source": [
    "import shutil\n",
    "import os\n",
    "\n",
    "def copy_and_number(source_image, start_number, num_copies):\n",
    "    # Check if source file exists\n",
    "    if not os.path.exists(source_image):\n",
    "        print(f\"Error: Source file '{source_image}' not found\")\n",
    "        return\n",
    "\n",
    "    # Get the directory and file extension\n",
    "    directory = os.path.dirname(source_image) or '.'\n",
    "    _, ext = os.path.splitext(source_image)\n",
    "\n",
    "    # Create numbered copies\n",
    "    for i in range(num_copies):\n",
    "        new_number = start_number + i\n",
    "        new_filename = f\"{new_number}{ext}\"\n",
    "        new_path = os.path.join(directory, new_filename)\n",
    "\n",
    "        try:\n",
    "            shutil.copy2(source_image, new_path)\n",
    "            print(f\"Created: {new_filename}\")\n",
    "        except Exception as e:\n",
    "            print(f\"Error creating {new_filename}: {e}\")\n",
    "\n",
    "# Example usage\n",
    "if __name__ == \"__main__\":\n",
    "    source_image = \"/home/sean/Desktop/s1_segments/5753/20230702185753_inklabels.png\"\n",
    "    start_number = 1\n",
    "    num_copies =20\n",
    "\n",
    "    copy_and_number(source_image, start_number, num_copies)"
   ],
   "id": "fd4b1a8ab4542b1b",
   "outputs": [
    {
     "name": "stdout",
     "output_type": "stream",
     "text": [
      "Created: 1.png\n",
      "Created: 2.png\n",
      "Created: 3.png\n",
      "Created: 4.png\n",
      "Created: 5.png\n",
      "Created: 6.png\n",
      "Created: 7.png\n",
      "Created: 8.png\n",
      "Created: 9.png\n",
      "Created: 10.png\n",
      "Created: 11.png\n",
      "Created: 12.png\n",
      "Created: 13.png\n",
      "Created: 14.png\n",
      "Created: 15.png\n",
      "Created: 16.png\n",
      "Created: 17.png\n",
      "Created: 18.png\n",
      "Created: 19.png\n",
      "Created: 20.png\n"
     ]
    }
   ],
   "execution_count": 4
  },
  {
   "metadata": {
    "ExecuteTime": {
     "end_time": "2025-01-12T01:13:56.063404Z",
     "start_time": "2025-01-12T00:52:53.162961Z"
    }
   },
   "cell_type": "code",
   "source": [
    "\n",
    "import zarr\n",
    "import numpy as np\n",
    "def check_slices_zyx3_vs_zyx(normals_path, sheet_path):\n",
    "    \"\"\"\n",
    "    Compares two Zarr arrays:\n",
    "      - 'normals': shape (Z, Y, X, 3)\n",
    "      - 'sheet':   shape (Z, Y, X)\n",
    "\n",
    "    For each z in [0..Z-1], checks if there's nonzero data in that slice.\n",
    "    Prints which slices are nonempty in one array but empty in the other.\n",
    "    \"\"\"\n",
    "\n",
    "    normals_arr = zarr.open(normals_path, mode='r')\n",
    "    sheet_arr = zarr.open(sheet_path, mode='r')\n",
    "\n",
    "    # Basic shape checks\n",
    "    if normals_arr.ndim != 4 or sheet_arr.ndim != 3:\n",
    "        raise ValueError(\n",
    "            f\"Shapes must be (Z, Y, X, 3) and (Z, Y, X). \"\n",
    "            f\"Got normals={normals_arr.shape}, sheet={sheet_arr.shape}\"\n",
    "        )\n",
    "    if normals_arr.shape[0] != sheet_arr.shape[0] or \\\n",
    "       normals_arr.shape[1] != sheet_arr.shape[1] or \\\n",
    "       normals_arr.shape[2] != sheet_arr.shape[2]:\n",
    "        raise ValueError(\n",
    "            f\"Z, Y, X dimensions do not match.\\n\"\n",
    "            f\"normals (Z,Y,X,3): {normals_arr.shape}\\n\"\n",
    "            f\"sheet   (Z,Y,X):   {sheet_arr.shape}\"\n",
    "        )\n",
    "\n",
    "    depth = normals_arr.shape[0]  # Number of slices in Z\n",
    "\n",
    "    for z in range(depth):\n",
    "        # Read one slice from each array\n",
    "        # normals_slice: shape (Y, X, 3)\n",
    "        # sheet_slice:   shape (Y, X)\n",
    "        normals_slice = normals_arr[z, ...]  # (Y, X, 3)\n",
    "        sheet_slice = sheet_arr[z, ...]      # (Y, X)\n",
    "\n",
    "        # Check if there's any nonzero data\n",
    "        has_data_normals = np.any(normals_slice)\n",
    "        has_data_sheet = np.any(sheet_slice)\n",
    "\n",
    "        if has_data_normals and not has_data_sheet:\n",
    "            print(f\"Slice {z}: has data in normals, but not in sheet.\")\n",
    "        elif has_data_sheet and not has_data_normals:\n",
    "            print(f\"Slice {z}: has data in sheet, but not in normals.\")\n",
    "        # If both or neither have data, we do nothing\n",
    "\n",
    "    print(\"Done checking slices!\")\n",
    "\n",
    "check_slices_zyx3_vs_zyx('/home/sean/Documents/GitHub/VC-Surface-Models/models/normals/s4_normals.zarr/volume.zarr', '/home/sean/Documents/GitHub/VC-Surface-Models/models/normals/s4_sheet.zarr/volume.zarr')"
   ],
   "id": "beae667ed8052215",
   "outputs": [
    {
     "ename": "KeyboardInterrupt",
     "evalue": "",
     "output_type": "error",
     "traceback": [
      "\u001B[0;31m---------------------------------------------------------------------------\u001B[0m",
      "\u001B[0;31mKeyboardInterrupt\u001B[0m                         Traceback (most recent call last)",
      "Cell \u001B[0;32mIn[13], line 52\u001B[0m\n\u001B[1;32m     48\u001B[0m         \u001B[38;5;66;03m# If both or neither have data, we do nothing\u001B[39;00m\n\u001B[1;32m     50\u001B[0m     \u001B[38;5;28mprint\u001B[39m(\u001B[38;5;124m\"\u001B[39m\u001B[38;5;124mDone checking slices!\u001B[39m\u001B[38;5;124m\"\u001B[39m)\n\u001B[0;32m---> 52\u001B[0m \u001B[43mcheck_slices_zyx3_vs_zyx\u001B[49m\u001B[43m(\u001B[49m\u001B[38;5;124;43m'\u001B[39;49m\u001B[38;5;124;43m/home/sean/Documents/GitHub/VC-Surface-Models/models/normals/s4_normals.zarr/volume.zarr\u001B[39;49m\u001B[38;5;124;43m'\u001B[39;49m\u001B[43m,\u001B[49m\u001B[43m \u001B[49m\u001B[38;5;124;43m'\u001B[39;49m\u001B[38;5;124;43m/home/sean/Documents/GitHub/VC-Surface-Models/models/normals/s4_sheet.zarr/volume.zarr\u001B[39;49m\u001B[38;5;124;43m'\u001B[39;49m\u001B[43m)\u001B[49m\n",
      "Cell \u001B[0;32mIn[13], line 38\u001B[0m, in \u001B[0;36mcheck_slices_zyx3_vs_zyx\u001B[0;34m(normals_path, sheet_path)\u001B[0m\n\u001B[1;32m     33\u001B[0m \u001B[38;5;28;01mfor\u001B[39;00m z \u001B[38;5;129;01min\u001B[39;00m \u001B[38;5;28mrange\u001B[39m(depth):\n\u001B[1;32m     34\u001B[0m     \u001B[38;5;66;03m# Read one slice from each array\u001B[39;00m\n\u001B[1;32m     35\u001B[0m     \u001B[38;5;66;03m# normals_slice: shape (Y, X, 3)\u001B[39;00m\n\u001B[1;32m     36\u001B[0m     \u001B[38;5;66;03m# sheet_slice:   shape (Y, X)\u001B[39;00m\n\u001B[1;32m     37\u001B[0m     normals_slice \u001B[38;5;241m=\u001B[39m normals_arr[z, \u001B[38;5;241m.\u001B[39m\u001B[38;5;241m.\u001B[39m\u001B[38;5;241m.\u001B[39m]  \u001B[38;5;66;03m# (Y, X, 3)\u001B[39;00m\n\u001B[0;32m---> 38\u001B[0m     sheet_slice \u001B[38;5;241m=\u001B[39m \u001B[43msheet_arr\u001B[49m\u001B[43m[\u001B[49m\u001B[43mz\u001B[49m\u001B[43m,\u001B[49m\u001B[43m \u001B[49m\u001B[38;5;241;43m.\u001B[39;49m\u001B[38;5;241;43m.\u001B[39;49m\u001B[38;5;241;43m.\u001B[39;49m\u001B[43m]\u001B[49m      \u001B[38;5;66;03m# (Y, X)\u001B[39;00m\n\u001B[1;32m     40\u001B[0m     \u001B[38;5;66;03m# Check if there's any nonzero data\u001B[39;00m\n\u001B[1;32m     41\u001B[0m     has_data_normals \u001B[38;5;241m=\u001B[39m np\u001B[38;5;241m.\u001B[39many(normals_slice)\n",
      "File \u001B[0;32m~/miniconda/envs/nnunet/lib/python3.10/site-packages/zarr/core.py:797\u001B[0m, in \u001B[0;36mArray.__getitem__\u001B[0;34m(self, selection)\u001B[0m\n\u001B[1;32m    795\u001B[0m     result \u001B[38;5;241m=\u001B[39m \u001B[38;5;28mself\u001B[39m\u001B[38;5;241m.\u001B[39mget_orthogonal_selection(pure_selection, fields\u001B[38;5;241m=\u001B[39mfields)\n\u001B[1;32m    796\u001B[0m \u001B[38;5;28;01melse\u001B[39;00m:\n\u001B[0;32m--> 797\u001B[0m     result \u001B[38;5;241m=\u001B[39m \u001B[38;5;28;43mself\u001B[39;49m\u001B[38;5;241;43m.\u001B[39;49m\u001B[43mget_basic_selection\u001B[49m\u001B[43m(\u001B[49m\u001B[43mpure_selection\u001B[49m\u001B[43m,\u001B[49m\u001B[43m \u001B[49m\u001B[43mfields\u001B[49m\u001B[38;5;241;43m=\u001B[39;49m\u001B[43mfields\u001B[49m\u001B[43m)\u001B[49m\n\u001B[1;32m    798\u001B[0m \u001B[38;5;28;01mreturn\u001B[39;00m result\n",
      "File \u001B[0;32m~/miniconda/envs/nnunet/lib/python3.10/site-packages/zarr/core.py:923\u001B[0m, in \u001B[0;36mArray.get_basic_selection\u001B[0;34m(self, selection, out, fields)\u001B[0m\n\u001B[1;32m    921\u001B[0m     \u001B[38;5;28;01mreturn\u001B[39;00m \u001B[38;5;28mself\u001B[39m\u001B[38;5;241m.\u001B[39m_get_basic_selection_zd(selection\u001B[38;5;241m=\u001B[39mselection, out\u001B[38;5;241m=\u001B[39mout, fields\u001B[38;5;241m=\u001B[39mfields)\n\u001B[1;32m    922\u001B[0m \u001B[38;5;28;01melse\u001B[39;00m:\n\u001B[0;32m--> 923\u001B[0m     \u001B[38;5;28;01mreturn\u001B[39;00m \u001B[38;5;28;43mself\u001B[39;49m\u001B[38;5;241;43m.\u001B[39;49m\u001B[43m_get_basic_selection_nd\u001B[49m\u001B[43m(\u001B[49m\u001B[43mselection\u001B[49m\u001B[38;5;241;43m=\u001B[39;49m\u001B[43mselection\u001B[49m\u001B[43m,\u001B[49m\u001B[43m \u001B[49m\u001B[43mout\u001B[49m\u001B[38;5;241;43m=\u001B[39;49m\u001B[43mout\u001B[49m\u001B[43m,\u001B[49m\u001B[43m \u001B[49m\u001B[43mfields\u001B[49m\u001B[38;5;241;43m=\u001B[39;49m\u001B[43mfields\u001B[49m\u001B[43m)\u001B[49m\n",
      "File \u001B[0;32m~/miniconda/envs/nnunet/lib/python3.10/site-packages/zarr/core.py:965\u001B[0m, in \u001B[0;36mArray._get_basic_selection_nd\u001B[0;34m(self, selection, out, fields)\u001B[0m\n\u001B[1;32m    959\u001B[0m \u001B[38;5;28;01mdef\u001B[39;00m \u001B[38;5;21m_get_basic_selection_nd\u001B[39m(\u001B[38;5;28mself\u001B[39m, selection, out\u001B[38;5;241m=\u001B[39m\u001B[38;5;28;01mNone\u001B[39;00m, fields\u001B[38;5;241m=\u001B[39m\u001B[38;5;28;01mNone\u001B[39;00m):\n\u001B[1;32m    960\u001B[0m     \u001B[38;5;66;03m# implementation of basic selection for array with at least one dimension\u001B[39;00m\n\u001B[1;32m    961\u001B[0m \n\u001B[1;32m    962\u001B[0m     \u001B[38;5;66;03m# setup indexer\u001B[39;00m\n\u001B[1;32m    963\u001B[0m     indexer \u001B[38;5;241m=\u001B[39m BasicIndexer(selection, \u001B[38;5;28mself\u001B[39m)\n\u001B[0;32m--> 965\u001B[0m     \u001B[38;5;28;01mreturn\u001B[39;00m \u001B[38;5;28;43mself\u001B[39;49m\u001B[38;5;241;43m.\u001B[39;49m\u001B[43m_get_selection\u001B[49m\u001B[43m(\u001B[49m\u001B[43mindexer\u001B[49m\u001B[38;5;241;43m=\u001B[39;49m\u001B[43mindexer\u001B[49m\u001B[43m,\u001B[49m\u001B[43m \u001B[49m\u001B[43mout\u001B[49m\u001B[38;5;241;43m=\u001B[39;49m\u001B[43mout\u001B[49m\u001B[43m,\u001B[49m\u001B[43m \u001B[49m\u001B[43mfields\u001B[49m\u001B[38;5;241;43m=\u001B[39;49m\u001B[43mfields\u001B[49m\u001B[43m)\u001B[49m\n",
      "File \u001B[0;32m~/miniconda/envs/nnunet/lib/python3.10/site-packages/zarr/core.py:1340\u001B[0m, in \u001B[0;36mArray._get_selection\u001B[0;34m(self, indexer, out, fields)\u001B[0m\n\u001B[1;32m   1337\u001B[0m \u001B[38;5;28;01mif\u001B[39;00m math\u001B[38;5;241m.\u001B[39mprod(out_shape) \u001B[38;5;241m>\u001B[39m \u001B[38;5;241m0\u001B[39m:\n\u001B[1;32m   1338\u001B[0m     \u001B[38;5;66;03m# allow storage to get multiple items at once\u001B[39;00m\n\u001B[1;32m   1339\u001B[0m     lchunk_coords, lchunk_selection, lout_selection \u001B[38;5;241m=\u001B[39m \u001B[38;5;28mzip\u001B[39m(\u001B[38;5;241m*\u001B[39mindexer)\n\u001B[0;32m-> 1340\u001B[0m     \u001B[38;5;28;43mself\u001B[39;49m\u001B[38;5;241;43m.\u001B[39;49m\u001B[43m_chunk_getitems\u001B[49m\u001B[43m(\u001B[49m\n\u001B[1;32m   1341\u001B[0m \u001B[43m        \u001B[49m\u001B[43mlchunk_coords\u001B[49m\u001B[43m,\u001B[49m\n\u001B[1;32m   1342\u001B[0m \u001B[43m        \u001B[49m\u001B[43mlchunk_selection\u001B[49m\u001B[43m,\u001B[49m\n\u001B[1;32m   1343\u001B[0m \u001B[43m        \u001B[49m\u001B[43mout\u001B[49m\u001B[43m,\u001B[49m\n\u001B[1;32m   1344\u001B[0m \u001B[43m        \u001B[49m\u001B[43mlout_selection\u001B[49m\u001B[43m,\u001B[49m\n\u001B[1;32m   1345\u001B[0m \u001B[43m        \u001B[49m\u001B[43mdrop_axes\u001B[49m\u001B[38;5;241;43m=\u001B[39;49m\u001B[43mindexer\u001B[49m\u001B[38;5;241;43m.\u001B[39;49m\u001B[43mdrop_axes\u001B[49m\u001B[43m,\u001B[49m\n\u001B[1;32m   1346\u001B[0m \u001B[43m        \u001B[49m\u001B[43mfields\u001B[49m\u001B[38;5;241;43m=\u001B[39;49m\u001B[43mfields\u001B[49m\u001B[43m,\u001B[49m\n\u001B[1;32m   1347\u001B[0m \u001B[43m    \u001B[49m\u001B[43m)\u001B[49m\n\u001B[1;32m   1348\u001B[0m \u001B[38;5;28;01mif\u001B[39;00m out\u001B[38;5;241m.\u001B[39mshape:\n\u001B[1;32m   1349\u001B[0m     \u001B[38;5;28;01mreturn\u001B[39;00m out\n",
      "File \u001B[0;32m~/miniconda/envs/nnunet/lib/python3.10/site-packages/zarr/core.py:2181\u001B[0m, in \u001B[0;36mArray._chunk_getitems\u001B[0;34m(self, lchunk_coords, lchunk_selection, out, lout_selection, drop_axes, fields)\u001B[0m\n\u001B[1;32m   2179\u001B[0m     \u001B[38;5;28;01mif\u001B[39;00m \u001B[38;5;129;01mnot\u001B[39;00m \u001B[38;5;28misinstance\u001B[39m(\u001B[38;5;28mself\u001B[39m\u001B[38;5;241m.\u001B[39m_meta_array, np\u001B[38;5;241m.\u001B[39mndarray):\n\u001B[1;32m   2180\u001B[0m         contexts \u001B[38;5;241m=\u001B[39m ConstantMap(ckeys, constant\u001B[38;5;241m=\u001B[39mContext(meta_array\u001B[38;5;241m=\u001B[39m\u001B[38;5;28mself\u001B[39m\u001B[38;5;241m.\u001B[39m_meta_array))\n\u001B[0;32m-> 2181\u001B[0m     cdatas \u001B[38;5;241m=\u001B[39m \u001B[38;5;28;43mself\u001B[39;49m\u001B[38;5;241;43m.\u001B[39;49m\u001B[43mchunk_store\u001B[49m\u001B[38;5;241;43m.\u001B[39;49m\u001B[43mgetitems\u001B[49m\u001B[43m(\u001B[49m\u001B[43mckeys\u001B[49m\u001B[43m,\u001B[49m\u001B[43m \u001B[49m\u001B[43mcontexts\u001B[49m\u001B[38;5;241;43m=\u001B[39;49m\u001B[43mcontexts\u001B[49m\u001B[43m)\u001B[49m\n\u001B[1;32m   2183\u001B[0m \u001B[38;5;28;01mfor\u001B[39;00m ckey, chunk_select, out_select \u001B[38;5;129;01min\u001B[39;00m \u001B[38;5;28mzip\u001B[39m(ckeys, lchunk_selection, lout_selection):\n\u001B[1;32m   2184\u001B[0m     \u001B[38;5;28;01mif\u001B[39;00m ckey \u001B[38;5;129;01min\u001B[39;00m cdatas:\n",
      "File \u001B[0;32m~/miniconda/envs/nnunet/lib/python3.10/site-packages/zarr/_storage/store.py:179\u001B[0m, in \u001B[0;36mBaseStore.getitems\u001B[0;34m(self, keys, contexts)\u001B[0m\n\u001B[1;32m    154\u001B[0m \u001B[38;5;28;01mdef\u001B[39;00m \u001B[38;5;21mgetitems\u001B[39m(\n\u001B[1;32m    155\u001B[0m     \u001B[38;5;28mself\u001B[39m, keys: Sequence[\u001B[38;5;28mstr\u001B[39m], \u001B[38;5;241m*\u001B[39m, contexts: Mapping[\u001B[38;5;28mstr\u001B[39m, Context]\n\u001B[1;32m    156\u001B[0m ) \u001B[38;5;241m-\u001B[39m\u001B[38;5;241m>\u001B[39m Mapping[\u001B[38;5;28mstr\u001B[39m, Any]:\n\u001B[1;32m    157\u001B[0m \u001B[38;5;250m    \u001B[39m\u001B[38;5;124;03m\"\"\"Retrieve data from multiple keys.\u001B[39;00m\n\u001B[1;32m    158\u001B[0m \n\u001B[1;32m    159\u001B[0m \u001B[38;5;124;03m    Parameters\u001B[39;00m\n\u001B[0;32m   (...)\u001B[0m\n\u001B[1;32m    177\u001B[0m \u001B[38;5;124;03m    keys and/or to utilize the contexts.\u001B[39;00m\n\u001B[1;32m    178\u001B[0m \u001B[38;5;124;03m    \"\"\"\u001B[39;00m\n\u001B[0;32m--> 179\u001B[0m     \u001B[38;5;28;01mreturn\u001B[39;00m {k: \u001B[38;5;28mself\u001B[39m[k] \u001B[38;5;28;01mfor\u001B[39;00m k \u001B[38;5;129;01min\u001B[39;00m keys \u001B[38;5;28;01mif\u001B[39;00m k \u001B[38;5;129;01min\u001B[39;00m \u001B[38;5;28mself\u001B[39m}\n",
      "File \u001B[0;32m~/miniconda/envs/nnunet/lib/python3.10/site-packages/zarr/_storage/store.py:179\u001B[0m, in \u001B[0;36m<dictcomp>\u001B[0;34m(.0)\u001B[0m\n\u001B[1;32m    154\u001B[0m \u001B[38;5;28;01mdef\u001B[39;00m \u001B[38;5;21mgetitems\u001B[39m(\n\u001B[1;32m    155\u001B[0m     \u001B[38;5;28mself\u001B[39m, keys: Sequence[\u001B[38;5;28mstr\u001B[39m], \u001B[38;5;241m*\u001B[39m, contexts: Mapping[\u001B[38;5;28mstr\u001B[39m, Context]\n\u001B[1;32m    156\u001B[0m ) \u001B[38;5;241m-\u001B[39m\u001B[38;5;241m>\u001B[39m Mapping[\u001B[38;5;28mstr\u001B[39m, Any]:\n\u001B[1;32m    157\u001B[0m \u001B[38;5;250m    \u001B[39m\u001B[38;5;124;03m\"\"\"Retrieve data from multiple keys.\u001B[39;00m\n\u001B[1;32m    158\u001B[0m \n\u001B[1;32m    159\u001B[0m \u001B[38;5;124;03m    Parameters\u001B[39;00m\n\u001B[0;32m   (...)\u001B[0m\n\u001B[1;32m    177\u001B[0m \u001B[38;5;124;03m    keys and/or to utilize the contexts.\u001B[39;00m\n\u001B[1;32m    178\u001B[0m \u001B[38;5;124;03m    \"\"\"\u001B[39;00m\n\u001B[0;32m--> 179\u001B[0m     \u001B[38;5;28;01mreturn\u001B[39;00m {k: \u001B[38;5;28;43mself\u001B[39;49m\u001B[43m[\u001B[49m\u001B[43mk\u001B[49m\u001B[43m]\u001B[49m \u001B[38;5;28;01mfor\u001B[39;00m k \u001B[38;5;129;01min\u001B[39;00m keys \u001B[38;5;28;01mif\u001B[39;00m k \u001B[38;5;129;01min\u001B[39;00m \u001B[38;5;28mself\u001B[39m}\n",
      "File \u001B[0;32m~/miniconda/envs/nnunet/lib/python3.10/site-packages/zarr/storage.py:1118\u001B[0m, in \u001B[0;36mDirectoryStore.__getitem__\u001B[0;34m(self, key)\u001B[0m\n\u001B[1;32m   1116\u001B[0m filepath \u001B[38;5;241m=\u001B[39m os\u001B[38;5;241m.\u001B[39mpath\u001B[38;5;241m.\u001B[39mjoin(\u001B[38;5;28mself\u001B[39m\u001B[38;5;241m.\u001B[39mpath, key)\n\u001B[1;32m   1117\u001B[0m \u001B[38;5;28;01mif\u001B[39;00m os\u001B[38;5;241m.\u001B[39mpath\u001B[38;5;241m.\u001B[39misfile(filepath):\n\u001B[0;32m-> 1118\u001B[0m     \u001B[38;5;28;01mreturn\u001B[39;00m \u001B[38;5;28;43mself\u001B[39;49m\u001B[38;5;241;43m.\u001B[39;49m\u001B[43m_fromfile\u001B[49m\u001B[43m(\u001B[49m\u001B[43mfilepath\u001B[49m\u001B[43m)\u001B[49m\n\u001B[1;32m   1119\u001B[0m \u001B[38;5;28;01melse\u001B[39;00m:\n\u001B[1;32m   1120\u001B[0m     \u001B[38;5;28;01mraise\u001B[39;00m \u001B[38;5;167;01mKeyError\u001B[39;00m(key)\n",
      "File \u001B[0;32m~/miniconda/envs/nnunet/lib/python3.10/site-packages/zarr/storage.py:1093\u001B[0m, in \u001B[0;36mDirectoryStore._fromfile\u001B[0;34m(fn)\u001B[0m\n\u001B[1;32m   1080\u001B[0m \u001B[38;5;250m\u001B[39m\u001B[38;5;124;03m\"\"\"Read data from a file\u001B[39;00m\n\u001B[1;32m   1081\u001B[0m \n\u001B[1;32m   1082\u001B[0m \u001B[38;5;124;03mParameters\u001B[39;00m\n\u001B[0;32m   (...)\u001B[0m\n\u001B[1;32m   1090\u001B[0m \u001B[38;5;124;03mfile reading logic.\u001B[39;00m\n\u001B[1;32m   1091\u001B[0m \u001B[38;5;124;03m\"\"\"\u001B[39;00m\n\u001B[1;32m   1092\u001B[0m \u001B[38;5;28;01mwith\u001B[39;00m \u001B[38;5;28mopen\u001B[39m(fn, \u001B[38;5;124m\"\u001B[39m\u001B[38;5;124mrb\u001B[39m\u001B[38;5;124m\"\u001B[39m) \u001B[38;5;28;01mas\u001B[39;00m f:\n\u001B[0;32m-> 1093\u001B[0m     \u001B[38;5;28;01mreturn\u001B[39;00m \u001B[43mf\u001B[49m\u001B[38;5;241;43m.\u001B[39;49m\u001B[43mread\u001B[49m\u001B[43m(\u001B[49m\u001B[43m)\u001B[49m\n",
      "\u001B[0;31mKeyboardInterrupt\u001B[0m: "
     ]
    }
   ],
   "execution_count": 13
  }
 ],
 "metadata": {
  "kernelspec": {
   "display_name": "Python 3",
   "language": "python",
   "name": "python3"
  },
  "language_info": {
   "codemirror_mode": {
    "name": "ipython",
    "version": 2
   },
   "file_extension": ".py",
   "mimetype": "text/x-python",
   "name": "python",
   "nbconvert_exporter": "python",
   "pygments_lexer": "ipython2",
   "version": "2.7.6"
  }
 },
 "nbformat": 4,
 "nbformat_minor": 5
}
