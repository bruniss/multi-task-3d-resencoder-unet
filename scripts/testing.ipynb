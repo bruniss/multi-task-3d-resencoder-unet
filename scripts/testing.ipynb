{
 "cells": [
  {
   "cell_type": "code",
   "id": "initial_id",
   "metadata": {
    "collapsed": true,
    "ExecuteTime": {
     "end_time": "2025-01-12T15:08:19.943572Z",
     "start_time": "2025-01-12T15:08:19.940607Z"
    }
   },
   "source": [
    "import tifffile\n",
    "import zarr"
   ],
   "outputs": [],
   "execution_count": 27
  },
  {
   "metadata": {
    "ExecuteTime": {
     "end_time": "2025-01-11T05:52:00.774Z",
     "start_time": "2025-01-11T05:51:59.299012Z"
    }
   },
   "cell_type": "code",
   "source": [
    "z = zarr.open('/mnt/raid_nvme/inference_out/predictions.zarr', mode='r')\n",
    "print(z.tree())\n",
    "\n",
    "norms = z['normals_final']\n",
    "sheet = z['sheet_final']\n",
    "\n",
    "s_n = norms[:,1000, :, ]\n",
    "s_s = sheet[1000]\n",
    "\n",
    "tifffile.imwrite('s_n.tif', s_n)\n",
    "tifffile.imwrite('s_s.tif', s_s)"
   ],
   "id": "852b190d4ad5d863",
   "outputs": [
    {
     "name": "stdout",
     "output_type": "stream",
     "text": [
      "/\n",
      " ├── normals_count (2000, 1500, 1750) float32\n",
      " ├── normals_final (3, 2000, 1500, 1750) uint16\n",
      " ├── normals_sum (3, 2000, 1500, 1750) float32\n",
      " ├── sheet_count (2000, 1500, 1750) float32\n",
      " ├── sheet_final (2000, 1500, 1750) uint8\n",
      " └── sheet_sum (2000, 1500, 1750) float32\n"
     ]
    }
   ],
   "execution_count": 15
  },
  {
   "metadata": {
    "ExecuteTime": {
     "end_time": "2025-01-12T19:33:17.588956Z",
     "start_time": "2025-01-12T19:31:33.476968Z"
    }
   },
   "cell_type": "code",
   "source": [
    "import zarr\n",
    "import tifffile\n",
    "import os\n",
    "\n",
    "# Open the Zarr array\n",
    "raw = zarr.open(\"/home/sean/Desktop/s1_segments/3336/predictions.zarr\", mode='r')\n",
    "ink = raw['ink_final']\n",
    "\n",
    "# Get the shape of the array\n",
    "z_layers, height, width = ink.shape  # Assuming shape is (Z, Y, X)\n",
    "\n",
    "# Create output directory if it doesn't exist\n",
    "output_dir = \"/home/sean/Desktop/s1_segments/3336/ink_layers\"\n",
    "os.makedirs(output_dir, exist_ok=True)\n",
    "\n",
    "# Iterate through Z layers\n",
    "for z in range(z_layers):\n",
    "    # Read the z-layer\n",
    "    layer = ink[z, :, :]\n",
    "\n",
    "    # Create output filename\n",
    "    output_path = os.path.join(output_dir, f\"{z:04d}.tif\")\n",
    "\n",
    "    # Save as TIFF\n",
    "    tifffile.imwrite(output_path, layer)\n",
    "    print(f\"Saved layer {z} to {output_path}\")"
   ],
   "id": "efc93a4e24883dbc",
   "outputs": [
    {
     "name": "stdout",
     "output_type": "stream",
     "text": [
      "Saved layer 0 to /home/sean/Desktop/s1_segments/3336/ink_layers/0000.tif\n",
      "Saved layer 1 to /home/sean/Desktop/s1_segments/3336/ink_layers/0001.tif\n",
      "Saved layer 2 to /home/sean/Desktop/s1_segments/3336/ink_layers/0002.tif\n",
      "Saved layer 3 to /home/sean/Desktop/s1_segments/3336/ink_layers/0003.tif\n",
      "Saved layer 4 to /home/sean/Desktop/s1_segments/3336/ink_layers/0004.tif\n",
      "Saved layer 5 to /home/sean/Desktop/s1_segments/3336/ink_layers/0005.tif\n",
      "Saved layer 6 to /home/sean/Desktop/s1_segments/3336/ink_layers/0006.tif\n",
      "Saved layer 7 to /home/sean/Desktop/s1_segments/3336/ink_layers/0007.tif\n",
      "Saved layer 8 to /home/sean/Desktop/s1_segments/3336/ink_layers/0008.tif\n",
      "Saved layer 9 to /home/sean/Desktop/s1_segments/3336/ink_layers/0009.tif\n",
      "Saved layer 10 to /home/sean/Desktop/s1_segments/3336/ink_layers/0010.tif\n",
      "Saved layer 11 to /home/sean/Desktop/s1_segments/3336/ink_layers/0011.tif\n",
      "Saved layer 12 to /home/sean/Desktop/s1_segments/3336/ink_layers/0012.tif\n",
      "Saved layer 13 to /home/sean/Desktop/s1_segments/3336/ink_layers/0013.tif\n",
      "Saved layer 14 to /home/sean/Desktop/s1_segments/3336/ink_layers/0014.tif\n",
      "Saved layer 15 to /home/sean/Desktop/s1_segments/3336/ink_layers/0015.tif\n",
      "Saved layer 16 to /home/sean/Desktop/s1_segments/3336/ink_layers/0016.tif\n",
      "Saved layer 17 to /home/sean/Desktop/s1_segments/3336/ink_layers/0017.tif\n",
      "Saved layer 18 to /home/sean/Desktop/s1_segments/3336/ink_layers/0018.tif\n",
      "Saved layer 19 to /home/sean/Desktop/s1_segments/3336/ink_layers/0019.tif\n"
     ]
    }
   ],
   "execution_count": 31
  },
  {
   "metadata": {
    "ExecuteTime": {
     "end_time": "2025-01-11T22:14:28.950657Z",
     "start_time": "2025-01-11T22:14:28.936576Z"
    }
   },
   "cell_type": "code",
   "source": [
    "import shutil\n",
    "import os\n",
    "\n",
    "def copy_and_number(source_image, start_number, num_copies):\n",
    "    # Check if source file exists\n",
    "    if not os.path.exists(source_image):\n",
    "        print(f\"Error: Source file '{source_image}' not found\")\n",
    "        return\n",
    "\n",
    "    # Get the directory and file extension\n",
    "    directory = os.path.dirname(source_image) or '.'\n",
    "    _, ext = os.path.splitext(source_image)\n",
    "\n",
    "    # Create numbered copies\n",
    "    for i in range(num_copies):\n",
    "        new_number = start_number + i\n",
    "        new_filename = f\"{new_number}{ext}\"\n",
    "        new_path = os.path.join(directory, new_filename)\n",
    "\n",
    "        try:\n",
    "            shutil.copy2(source_image, new_path)\n",
    "            print(f\"Created: {new_filename}\")\n",
    "        except Exception as e:\n",
    "            print(f\"Error creating {new_filename}: {e}\")\n",
    "\n",
    "# Example usage\n",
    "if __name__ == \"__main__\":\n",
    "    source_image = \"/home/sean/Desktop/s1_segments/5753/20230702185753_inklabels.png\"\n",
    "    start_number = 1\n",
    "    num_copies =20\n",
    "\n",
    "    copy_and_number(source_image, start_number, num_copies)"
   ],
   "id": "fd4b1a8ab4542b1b",
   "outputs": [
    {
     "name": "stdout",
     "output_type": "stream",
     "text": [
      "Created: 1.png\n",
      "Created: 2.png\n",
      "Created: 3.png\n",
      "Created: 4.png\n",
      "Created: 5.png\n",
      "Created: 6.png\n",
      "Created: 7.png\n",
      "Created: 8.png\n",
      "Created: 9.png\n",
      "Created: 10.png\n",
      "Created: 11.png\n",
      "Created: 12.png\n",
      "Created: 13.png\n",
      "Created: 14.png\n",
      "Created: 15.png\n",
      "Created: 16.png\n",
      "Created: 17.png\n",
      "Created: 18.png\n",
      "Created: 19.png\n",
      "Created: 20.png\n"
     ]
    }
   ],
   "execution_count": 4
  },
  {
   "metadata": {
    "ExecuteTime": {
     "end_time": "2025-01-13T15:39:14.073716Z",
     "start_time": "2025-01-13T15:39:14.058493Z"
    }
   },
   "cell_type": "code",
   "source": [
    "import os\n",
    "import glob\n",
    "import re\n",
    "from tqdm import tqdm\n",
    "\n",
    "def natural_sort_key(s):\n",
    "    return [int(text) if text.isdigit() else text.lower()\n",
    "            for text in re.split(r'([0-9]+)', s)]\n",
    "\n",
    "def check_layers_in_range(parent_folder, start=25, stop=35):\n",
    "    \"\"\"\n",
    "    Go through each segment folder in `parent_folder` (ones that have a 'layers' subdirectory)\n",
    "    and check if the slice indices [start..stop] are valid based on the number of layer files.\n",
    "\n",
    "    If any slice index is out of range, we print a warning message.\n",
    "    \"\"\"\n",
    "\n",
    "    # 1) Find all subdirectories that contain a 'layers' folder\n",
    "    segment_folders = [\n",
    "        f.path for f in os.scandir(parent_folder)\n",
    "        if f.is_dir() and os.path.exists(os.path.join(f.path, 'layers'))\n",
    "    ]\n",
    "\n",
    "    if not segment_folders:\n",
    "        raise ValueError(f\"No valid segment folders found in {parent_folder}\")\n",
    "\n",
    "    print(f\"Found {len(segment_folders)} segment folders to check.\")\n",
    "\n",
    "    # 2) For each segment, gather layer files and sort them the same way\n",
    "    for folder in tqdm(segment_folders, desc=\"Checking segments\"):\n",
    "        seg_name = os.path.basename(folder)\n",
    "        layers_dir = os.path.join(folder, 'layers')\n",
    "\n",
    "        # Collect and sort .tif layer files\n",
    "        layers = glob.glob(os.path.join(layers_dir, '*.tif'))\n",
    "        layers.sort(key=natural_sort_key)\n",
    "\n",
    "        if not layers:\n",
    "            print(f\"WARNING: No .tif files found in {layers_dir}\")\n",
    "            continue\n",
    "\n",
    "        # 3) Determine how many slices we plan to read\n",
    "        num_slices = stop - start + 1\n",
    "\n",
    "        # 4) Check if each requested slice index is within range\n",
    "        #    of the sorted `layers` list\n",
    "        out_of_range = False\n",
    "        for idx in range(num_slices):\n",
    "            file_index = start + idx\n",
    "            if file_index >= len(layers):\n",
    "                # This means we'd \"fall back\" to the last layer file in your original script\n",
    "                print(\n",
    "                    f\"Out-of-range: Segment '{seg_name}' \"\n",
    "                    f\"needs slice index {file_index} but only has {len(layers)} files.\"\n",
    "                )\n",
    "                out_of_range = True\n",
    "                # We don't break here because we may want to see *all* out-of-range indices\n",
    "\n",
    "        # 5) Optional: If you only want to print a single message for each segment\n",
    "        # that has any missing slices, you could do:\n",
    "        if out_of_range:\n",
    "            print(f\" -> Segment '{seg_name}' does NOT have all slices for [{start}..{stop}].\")\n",
    "        else:\n",
    "            print(f\" -> Segment '{seg_name}' is good (has at least {stop+1} files).\")\n",
    "\n",
    "if __name__ == \"__main__\":\n",
    "    parent_folder = \"/home/sean/Desktop/s1_segments/\"\n",
    "    check_layers_in_range(parent_folder, start=25, stop=35)\n"
   ],
   "id": "beae667ed8052215",
   "outputs": [
    {
     "name": "stdout",
     "output_type": "stream",
     "text": [
      "Found 8 segment folders to check.\n"
     ]
    },
    {
     "name": "stderr",
     "output_type": "stream",
     "text": [
      "Checking segments: 100%|██████████| 8/8 [00:00<00:00, 2137.36it/s]"
     ]
    },
    {
     "name": "stdout",
     "output_type": "stream",
     "text": [
      "Out-of-range: Segment '4423' needs slice index 25 but only has 21 files.\n",
      "Out-of-range: Segment '4423' needs slice index 26 but only has 21 files.\n",
      "Out-of-range: Segment '4423' needs slice index 27 but only has 21 files.\n",
      "Out-of-range: Segment '4423' needs slice index 28 but only has 21 files.\n",
      "Out-of-range: Segment '4423' needs slice index 29 but only has 21 files.\n",
      "Out-of-range: Segment '4423' needs slice index 30 but only has 21 files.\n",
      "Out-of-range: Segment '4423' needs slice index 31 but only has 21 files.\n",
      "Out-of-range: Segment '4423' needs slice index 32 but only has 21 files.\n",
      "Out-of-range: Segment '4423' needs slice index 33 but only has 21 files.\n",
      "Out-of-range: Segment '4423' needs slice index 34 but only has 21 files.\n",
      "Out-of-range: Segment '4423' needs slice index 35 but only has 21 files.\n",
      " -> Segment '4423' does NOT have all slices for [25..35].\n",
      "Out-of-range: Segment '0901' needs slice index 25 but only has 21 files.\n",
      "Out-of-range: Segment '0901' needs slice index 26 but only has 21 files.\n",
      "Out-of-range: Segment '0901' needs slice index 27 but only has 21 files.\n",
      "Out-of-range: Segment '0901' needs slice index 28 but only has 21 files.\n",
      "Out-of-range: Segment '0901' needs slice index 29 but only has 21 files.\n",
      "Out-of-range: Segment '0901' needs slice index 30 but only has 21 files.\n",
      "Out-of-range: Segment '0901' needs slice index 31 but only has 21 files.\n",
      "Out-of-range: Segment '0901' needs slice index 32 but only has 21 files.\n",
      "Out-of-range: Segment '0901' needs slice index 33 but only has 21 files.\n",
      "Out-of-range: Segment '0901' needs slice index 34 but only has 21 files.\n",
      "Out-of-range: Segment '0901' needs slice index 35 but only has 21 files.\n",
      " -> Segment '0901' does NOT have all slices for [25..35].\n",
      " -> Segment '0926' is good (has at least 36 files).\n",
      " -> Segment '3336' is good (has at least 36 files).\n",
      "Out-of-range: Segment '1321' needs slice index 25 but only has 21 files.\n",
      "Out-of-range: Segment '1321' needs slice index 26 but only has 21 files.\n",
      "Out-of-range: Segment '1321' needs slice index 27 but only has 21 files.\n",
      "Out-of-range: Segment '1321' needs slice index 28 but only has 21 files.\n",
      "Out-of-range: Segment '1321' needs slice index 29 but only has 21 files.\n",
      "Out-of-range: Segment '1321' needs slice index 30 but only has 21 files.\n",
      "Out-of-range: Segment '1321' needs slice index 31 but only has 21 files.\n",
      "Out-of-range: Segment '1321' needs slice index 32 but only has 21 files.\n",
      "Out-of-range: Segment '1321' needs slice index 33 but only has 21 files.\n",
      "Out-of-range: Segment '1321' needs slice index 34 but only has 21 files.\n",
      "Out-of-range: Segment '1321' needs slice index 35 but only has 21 files.\n",
      " -> Segment '1321' does NOT have all slices for [25..35].\n",
      " -> Segment '51002' is good (has at least 36 files).\n",
      " -> Segment '1619' is good (has at least 36 files).\n",
      "Out-of-range: Segment '5753' needs slice index 25 but only has 21 files.\n",
      "Out-of-range: Segment '5753' needs slice index 26 but only has 21 files.\n",
      "Out-of-range: Segment '5753' needs slice index 27 but only has 21 files.\n",
      "Out-of-range: Segment '5753' needs slice index 28 but only has 21 files.\n",
      "Out-of-range: Segment '5753' needs slice index 29 but only has 21 files.\n",
      "Out-of-range: Segment '5753' needs slice index 30 but only has 21 files.\n",
      "Out-of-range: Segment '5753' needs slice index 31 but only has 21 files.\n",
      "Out-of-range: Segment '5753' needs slice index 32 but only has 21 files.\n",
      "Out-of-range: Segment '5753' needs slice index 33 but only has 21 files.\n",
      "Out-of-range: Segment '5753' needs slice index 34 but only has 21 files.\n",
      "Out-of-range: Segment '5753' needs slice index 35 but only has 21 files.\n",
      " -> Segment '5753' does NOT have all slices for [25..35].\n"
     ]
    },
    {
     "name": "stderr",
     "output_type": "stream",
     "text": [
      "\n"
     ]
    }
   ],
   "execution_count": 1
  },
  {
   "metadata": {
    "ExecuteTime": {
     "end_time": "2025-01-14T19:10:45.524637Z",
     "start_time": "2025-01-14T19:09:58.635162Z"
    }
   },
   "cell_type": "code",
   "source": [
    "import os\n",
    "import sys\n",
    "import argparse\n",
    "\n",
    "import numpy as np\n",
    "import zarr\n",
    "import cv2\n",
    "\n",
    "def slice_normals_zarr(zarr_path, dataset_name, output_dir):\n",
    "    \"\"\"\n",
    "    Reads a 3-channel dataset from a zarr file and writes each z-slice as a 3-channel JPG image.\n",
    "\n",
    "    - The dataset is expected to be shaped (3, Z, Y, X), i.e. (channels, depth, height, width).\n",
    "    - The script will transpose it to (height, width, channels) for OpenCV.\n",
    "    - Assumes final data is either already uint8 or uint16. If it is uint16, it applies a simple\n",
    "      min/max scaling to convert into 8-bit for JPG writing.\n",
    "    \"\"\"\n",
    "\n",
    "    print(f\"Opening Zarr store: {zarr_path}\")\n",
    "    zarr_store = zarr.open(zarr_path, mode='r')\n",
    "\n",
    "    if dataset_name not in zarr_store:\n",
    "        raise ValueError(f\"Dataset '{dataset_name}' not found in '{zarr_path}'\")\n",
    "\n",
    "    dataset = zarr_store[dataset_name]\n",
    "    if dataset.ndim != 4:\n",
    "        raise ValueError(\n",
    "            f\"Expected dataset '{dataset_name}' to have 4 dimensions (3, Z, Y, X). \"\n",
    "            f\"Got shape {dataset.shape} instead.\"\n",
    "        )\n",
    "\n",
    "    c, Z, Y, X = dataset.shape\n",
    "    if c != 3:\n",
    "        raise ValueError(f\"Expected 3 channels for dataset '{dataset_name}'. Got shape={dataset.shape}\")\n",
    "\n",
    "    print(f\"Found dataset '{dataset_name}' with shape={dataset.shape}\")\n",
    "    print(f\"Writing slices to: {output_dir}\")\n",
    "    os.makedirs(output_dir, exist_ok=True)\n",
    "\n",
    "    # Read metadata about the data type.\n",
    "    dtype = str(dataset.dtype)\n",
    "    print(f\"Dataset dtype={dtype}\")\n",
    "\n",
    "    for z in range(Z):\n",
    "        # Read one z-slice: shape = (3, Y, X)\n",
    "        slice_3d = dataset[:, z, :, :]\n",
    "\n",
    "        # Transpose to (Y, X, 3) for OpenCV\n",
    "        slice_3d = np.transpose(slice_3d, (1, 2, 0))\n",
    "\n",
    "        # If dtype is uint16, do min/max scaling to 8 bits for visualization\n",
    "        if 'uint16' in dtype:\n",
    "            # Simple stretch from [0..65535] -> [0..255]\n",
    "            slice_3d_8u = cv2.convertScaleAbs(slice_3d, alpha=(255.0/65535.0))\n",
    "        else:\n",
    "            # Assume data is already in the correct 0..255 range\n",
    "            slice_3d_8u = slice_3d.astype(np.uint8, copy=False)\n",
    "\n",
    "        # OpenCV expects BGR order. If your data is already BGR, you can keep it as is.\n",
    "        # If your data is in (R, G, B), you can swap it here:\n",
    "        # slice_3d_8u = slice_3d_8u[..., ::-1]  # (R, G, B) -> (B, G, R)\n",
    "\n",
    "        # Construct the output path\n",
    "        out_path = os.path.join(output_dir, f\"slice_{z:04d}.jpg\")\n",
    "\n",
    "        cv2.imwrite(out_path, slice_3d_8u)\n",
    "\n",
    "        if z % 50 == 0:\n",
    "            print(f\"Wrote z-slice {z} -> {out_path}\")\n",
    "\n",
    "    print(\"Done writing slices.\")\n",
    "\n",
    "\n",
    "def main():\n",
    "\n",
    "\n",
    "    slice_normals_zarr(\n",
    "        zarr_path=\"/mnt/raid_nvme/inference_out/predictions.zarr\",\n",
    "        dataset_name=\"normals_final\",\n",
    "        output_dir=\"/mnt/raid_nvme/inference_out/normals_final_slices\"\n",
    "    )\n",
    "\n",
    "\n",
    "if __name__ == '__main__':\n",
    "    main()\n"
   ],
   "id": "75ec297b137e7af9",
   "outputs": [
    {
     "name": "stdout",
     "output_type": "stream",
     "text": [
      "Opening Zarr store: /mnt/raid_nvme/inference_out/predictions.zarr\n",
      "Found dataset 'normals_final' with shape=(3, 2000, 1500, 1750)\n",
      "Writing slices to: /mnt/raid_nvme/inference_out/normals_final_slices\n",
      "Dataset dtype=uint16\n",
      "Wrote z-slice 0 -> /mnt/raid_nvme/inference_out/normals_final_slices/slice_0000.jpg\n",
      "Wrote z-slice 50 -> /mnt/raid_nvme/inference_out/normals_final_slices/slice_0050.jpg\n",
      "Wrote z-slice 100 -> /mnt/raid_nvme/inference_out/normals_final_slices/slice_0100.jpg\n",
      "Wrote z-slice 150 -> /mnt/raid_nvme/inference_out/normals_final_slices/slice_0150.jpg\n",
      "Wrote z-slice 200 -> /mnt/raid_nvme/inference_out/normals_final_slices/slice_0200.jpg\n",
      "Wrote z-slice 250 -> /mnt/raid_nvme/inference_out/normals_final_slices/slice_0250.jpg\n"
     ]
    },
    {
     "ename": "KeyboardInterrupt",
     "evalue": "",
     "output_type": "error",
     "traceback": [
      "\u001B[0;31m---------------------------------------------------------------------------\u001B[0m",
      "\u001B[0;31mKeyboardInterrupt\u001B[0m                         Traceback (most recent call last)",
      "Cell \u001B[0;32mIn[1], line 85\u001B[0m\n\u001B[1;32m     77\u001B[0m     slice_normals_zarr(\n\u001B[1;32m     78\u001B[0m         zarr_path\u001B[38;5;241m=\u001B[39m\u001B[38;5;124m\"\u001B[39m\u001B[38;5;124m/mnt/raid_nvme/inference_out/predictions.zarr\u001B[39m\u001B[38;5;124m\"\u001B[39m,\n\u001B[1;32m     79\u001B[0m         dataset_name\u001B[38;5;241m=\u001B[39m\u001B[38;5;124m\"\u001B[39m\u001B[38;5;124mnormals_final\u001B[39m\u001B[38;5;124m\"\u001B[39m,\n\u001B[1;32m     80\u001B[0m         output_dir\u001B[38;5;241m=\u001B[39m\u001B[38;5;124m\"\u001B[39m\u001B[38;5;124m/mnt/raid_nvme/inference_out/normals_final_slices\u001B[39m\u001B[38;5;124m\"\u001B[39m\n\u001B[1;32m     81\u001B[0m     )\n\u001B[1;32m     84\u001B[0m \u001B[38;5;28;01mif\u001B[39;00m \u001B[38;5;18m__name__\u001B[39m \u001B[38;5;241m==\u001B[39m \u001B[38;5;124m'\u001B[39m\u001B[38;5;124m__main__\u001B[39m\u001B[38;5;124m'\u001B[39m:\n\u001B[0;32m---> 85\u001B[0m     \u001B[43mmain\u001B[49m\u001B[43m(\u001B[49m\u001B[43m)\u001B[49m\n",
      "Cell \u001B[0;32mIn[1], line 77\u001B[0m, in \u001B[0;36mmain\u001B[0;34m()\u001B[0m\n\u001B[1;32m     74\u001B[0m \u001B[38;5;28;01mdef\u001B[39;00m \u001B[38;5;21mmain\u001B[39m():\n\u001B[0;32m---> 77\u001B[0m     \u001B[43mslice_normals_zarr\u001B[49m\u001B[43m(\u001B[49m\n\u001B[1;32m     78\u001B[0m \u001B[43m        \u001B[49m\u001B[43mzarr_path\u001B[49m\u001B[38;5;241;43m=\u001B[39;49m\u001B[38;5;124;43m\"\u001B[39;49m\u001B[38;5;124;43m/mnt/raid_nvme/inference_out/predictions.zarr\u001B[39;49m\u001B[38;5;124;43m\"\u001B[39;49m\u001B[43m,\u001B[49m\n\u001B[1;32m     79\u001B[0m \u001B[43m        \u001B[49m\u001B[43mdataset_name\u001B[49m\u001B[38;5;241;43m=\u001B[39;49m\u001B[38;5;124;43m\"\u001B[39;49m\u001B[38;5;124;43mnormals_final\u001B[39;49m\u001B[38;5;124;43m\"\u001B[39;49m\u001B[43m,\u001B[49m\n\u001B[1;32m     80\u001B[0m \u001B[43m        \u001B[49m\u001B[43moutput_dir\u001B[49m\u001B[38;5;241;43m=\u001B[39;49m\u001B[38;5;124;43m\"\u001B[39;49m\u001B[38;5;124;43m/mnt/raid_nvme/inference_out/normals_final_slices\u001B[39;49m\u001B[38;5;124;43m\"\u001B[39;49m\n\u001B[1;32m     81\u001B[0m \u001B[43m    \u001B[49m\u001B[43m)\u001B[49m\n",
      "Cell \u001B[0;32mIn[1], line 46\u001B[0m, in \u001B[0;36mslice_normals_zarr\u001B[0;34m(zarr_path, dataset_name, output_dir)\u001B[0m\n\u001B[1;32m     42\u001B[0m \u001B[38;5;28mprint\u001B[39m(\u001B[38;5;124mf\u001B[39m\u001B[38;5;124m\"\u001B[39m\u001B[38;5;124mDataset dtype=\u001B[39m\u001B[38;5;132;01m{\u001B[39;00mdtype\u001B[38;5;132;01m}\u001B[39;00m\u001B[38;5;124m\"\u001B[39m)\n\u001B[1;32m     44\u001B[0m \u001B[38;5;28;01mfor\u001B[39;00m z \u001B[38;5;129;01min\u001B[39;00m \u001B[38;5;28mrange\u001B[39m(Z):\n\u001B[1;32m     45\u001B[0m     \u001B[38;5;66;03m# Read one z-slice: shape = (3, Y, X)\u001B[39;00m\n\u001B[0;32m---> 46\u001B[0m     slice_3d \u001B[38;5;241m=\u001B[39m \u001B[43mdataset\u001B[49m\u001B[43m[\u001B[49m\u001B[43m:\u001B[49m\u001B[43m,\u001B[49m\u001B[43m \u001B[49m\u001B[43mz\u001B[49m\u001B[43m,\u001B[49m\u001B[43m \u001B[49m\u001B[43m:\u001B[49m\u001B[43m,\u001B[49m\u001B[43m \u001B[49m\u001B[43m:\u001B[49m\u001B[43m]\u001B[49m\n\u001B[1;32m     48\u001B[0m     \u001B[38;5;66;03m# Transpose to (Y, X, 3) for OpenCV\u001B[39;00m\n\u001B[1;32m     49\u001B[0m     slice_3d \u001B[38;5;241m=\u001B[39m np\u001B[38;5;241m.\u001B[39mtranspose(slice_3d, (\u001B[38;5;241m1\u001B[39m, \u001B[38;5;241m2\u001B[39m, \u001B[38;5;241m0\u001B[39m))\n",
      "File \u001B[0;32m~/miniconda/envs/nnunet/lib/python3.10/site-packages/zarr/core.py:795\u001B[0m, in \u001B[0;36mArray.__getitem__\u001B[0;34m(self, selection)\u001B[0m\n\u001B[1;32m    793\u001B[0m     result \u001B[38;5;241m=\u001B[39m \u001B[38;5;28mself\u001B[39m\u001B[38;5;241m.\u001B[39mvindex[selection]\n\u001B[1;32m    794\u001B[0m \u001B[38;5;28;01melif\u001B[39;00m is_pure_orthogonal_indexing(pure_selection, \u001B[38;5;28mself\u001B[39m\u001B[38;5;241m.\u001B[39mndim):\n\u001B[0;32m--> 795\u001B[0m     result \u001B[38;5;241m=\u001B[39m \u001B[38;5;28;43mself\u001B[39;49m\u001B[38;5;241;43m.\u001B[39;49m\u001B[43mget_orthogonal_selection\u001B[49m\u001B[43m(\u001B[49m\u001B[43mpure_selection\u001B[49m\u001B[43m,\u001B[49m\u001B[43m \u001B[49m\u001B[43mfields\u001B[49m\u001B[38;5;241;43m=\u001B[39;49m\u001B[43mfields\u001B[49m\u001B[43m)\u001B[49m\n\u001B[1;32m    796\u001B[0m \u001B[38;5;28;01melse\u001B[39;00m:\n\u001B[1;32m    797\u001B[0m     result \u001B[38;5;241m=\u001B[39m \u001B[38;5;28mself\u001B[39m\u001B[38;5;241m.\u001B[39mget_basic_selection(pure_selection, fields\u001B[38;5;241m=\u001B[39mfields)\n",
      "File \u001B[0;32m~/miniconda/envs/nnunet/lib/python3.10/site-packages/zarr/core.py:1077\u001B[0m, in \u001B[0;36mArray.get_orthogonal_selection\u001B[0;34m(self, selection, out, fields)\u001B[0m\n\u001B[1;32m   1074\u001B[0m \u001B[38;5;66;03m# setup indexer\u001B[39;00m\n\u001B[1;32m   1075\u001B[0m indexer \u001B[38;5;241m=\u001B[39m OrthogonalIndexer(selection, \u001B[38;5;28mself\u001B[39m)\n\u001B[0;32m-> 1077\u001B[0m \u001B[38;5;28;01mreturn\u001B[39;00m \u001B[38;5;28;43mself\u001B[39;49m\u001B[38;5;241;43m.\u001B[39;49m\u001B[43m_get_selection\u001B[49m\u001B[43m(\u001B[49m\u001B[43mindexer\u001B[49m\u001B[38;5;241;43m=\u001B[39;49m\u001B[43mindexer\u001B[49m\u001B[43m,\u001B[49m\u001B[43m \u001B[49m\u001B[43mout\u001B[49m\u001B[38;5;241;43m=\u001B[39;49m\u001B[43mout\u001B[49m\u001B[43m,\u001B[49m\u001B[43m \u001B[49m\u001B[43mfields\u001B[49m\u001B[38;5;241;43m=\u001B[39;49m\u001B[43mfields\u001B[49m\u001B[43m)\u001B[49m\n",
      "File \u001B[0;32m~/miniconda/envs/nnunet/lib/python3.10/site-packages/zarr/core.py:1340\u001B[0m, in \u001B[0;36mArray._get_selection\u001B[0;34m(self, indexer, out, fields)\u001B[0m\n\u001B[1;32m   1337\u001B[0m \u001B[38;5;28;01mif\u001B[39;00m math\u001B[38;5;241m.\u001B[39mprod(out_shape) \u001B[38;5;241m>\u001B[39m \u001B[38;5;241m0\u001B[39m:\n\u001B[1;32m   1338\u001B[0m     \u001B[38;5;66;03m# allow storage to get multiple items at once\u001B[39;00m\n\u001B[1;32m   1339\u001B[0m     lchunk_coords, lchunk_selection, lout_selection \u001B[38;5;241m=\u001B[39m \u001B[38;5;28mzip\u001B[39m(\u001B[38;5;241m*\u001B[39mindexer)\n\u001B[0;32m-> 1340\u001B[0m     \u001B[38;5;28;43mself\u001B[39;49m\u001B[38;5;241;43m.\u001B[39;49m\u001B[43m_chunk_getitems\u001B[49m\u001B[43m(\u001B[49m\n\u001B[1;32m   1341\u001B[0m \u001B[43m        \u001B[49m\u001B[43mlchunk_coords\u001B[49m\u001B[43m,\u001B[49m\n\u001B[1;32m   1342\u001B[0m \u001B[43m        \u001B[49m\u001B[43mlchunk_selection\u001B[49m\u001B[43m,\u001B[49m\n\u001B[1;32m   1343\u001B[0m \u001B[43m        \u001B[49m\u001B[43mout\u001B[49m\u001B[43m,\u001B[49m\n\u001B[1;32m   1344\u001B[0m \u001B[43m        \u001B[49m\u001B[43mlout_selection\u001B[49m\u001B[43m,\u001B[49m\n\u001B[1;32m   1345\u001B[0m \u001B[43m        \u001B[49m\u001B[43mdrop_axes\u001B[49m\u001B[38;5;241;43m=\u001B[39;49m\u001B[43mindexer\u001B[49m\u001B[38;5;241;43m.\u001B[39;49m\u001B[43mdrop_axes\u001B[49m\u001B[43m,\u001B[49m\n\u001B[1;32m   1346\u001B[0m \u001B[43m        \u001B[49m\u001B[43mfields\u001B[49m\u001B[38;5;241;43m=\u001B[39;49m\u001B[43mfields\u001B[49m\u001B[43m,\u001B[49m\n\u001B[1;32m   1347\u001B[0m \u001B[43m    \u001B[49m\u001B[43m)\u001B[49m\n\u001B[1;32m   1348\u001B[0m \u001B[38;5;28;01mif\u001B[39;00m out\u001B[38;5;241m.\u001B[39mshape:\n\u001B[1;32m   1349\u001B[0m     \u001B[38;5;28;01mreturn\u001B[39;00m out\n",
      "File \u001B[0;32m~/miniconda/envs/nnunet/lib/python3.10/site-packages/zarr/core.py:2185\u001B[0m, in \u001B[0;36mArray._chunk_getitems\u001B[0;34m(self, lchunk_coords, lchunk_selection, out, lout_selection, drop_axes, fields)\u001B[0m\n\u001B[1;32m   2183\u001B[0m \u001B[38;5;28;01mfor\u001B[39;00m ckey, chunk_select, out_select \u001B[38;5;129;01min\u001B[39;00m \u001B[38;5;28mzip\u001B[39m(ckeys, lchunk_selection, lout_selection):\n\u001B[1;32m   2184\u001B[0m     \u001B[38;5;28;01mif\u001B[39;00m ckey \u001B[38;5;129;01min\u001B[39;00m cdatas:\n\u001B[0;32m-> 2185\u001B[0m         \u001B[38;5;28;43mself\u001B[39;49m\u001B[38;5;241;43m.\u001B[39;49m\u001B[43m_process_chunk\u001B[49m\u001B[43m(\u001B[49m\n\u001B[1;32m   2186\u001B[0m \u001B[43m            \u001B[49m\u001B[43mout\u001B[49m\u001B[43m,\u001B[49m\n\u001B[1;32m   2187\u001B[0m \u001B[43m            \u001B[49m\u001B[43mcdatas\u001B[49m\u001B[43m[\u001B[49m\u001B[43mckey\u001B[49m\u001B[43m]\u001B[49m\u001B[43m,\u001B[49m\n\u001B[1;32m   2188\u001B[0m \u001B[43m            \u001B[49m\u001B[43mchunk_select\u001B[49m\u001B[43m,\u001B[49m\n\u001B[1;32m   2189\u001B[0m \u001B[43m            \u001B[49m\u001B[43mdrop_axes\u001B[49m\u001B[43m,\u001B[49m\n\u001B[1;32m   2190\u001B[0m \u001B[43m            \u001B[49m\u001B[43mout_is_ndarray\u001B[49m\u001B[43m,\u001B[49m\n\u001B[1;32m   2191\u001B[0m \u001B[43m            \u001B[49m\u001B[43mfields\u001B[49m\u001B[43m,\u001B[49m\n\u001B[1;32m   2192\u001B[0m \u001B[43m            \u001B[49m\u001B[43mout_select\u001B[49m\u001B[43m,\u001B[49m\n\u001B[1;32m   2193\u001B[0m \u001B[43m            \u001B[49m\u001B[43mpartial_read_decode\u001B[49m\u001B[38;5;241;43m=\u001B[39;49m\u001B[43mpartial_read_decode\u001B[49m\u001B[43m,\u001B[49m\n\u001B[1;32m   2194\u001B[0m \u001B[43m        \u001B[49m\u001B[43m)\u001B[49m\n\u001B[1;32m   2195\u001B[0m     \u001B[38;5;28;01melse\u001B[39;00m:\n\u001B[1;32m   2196\u001B[0m         \u001B[38;5;66;03m# check exception type\u001B[39;00m\n\u001B[1;32m   2197\u001B[0m         \u001B[38;5;28;01mif\u001B[39;00m \u001B[38;5;28mself\u001B[39m\u001B[38;5;241m.\u001B[39m_fill_value \u001B[38;5;129;01mis\u001B[39;00m \u001B[38;5;129;01mnot\u001B[39;00m \u001B[38;5;28;01mNone\u001B[39;00m:\n",
      "File \u001B[0;32m~/miniconda/envs/nnunet/lib/python3.10/site-packages/zarr/core.py:2098\u001B[0m, in \u001B[0;36mArray._process_chunk\u001B[0;34m(self, out, cdata, chunk_selection, drop_axes, out_is_ndarray, fields, out_selection, partial_read_decode)\u001B[0m\n\u001B[1;32m   2096\u001B[0m \u001B[38;5;28;01mexcept\u001B[39;00m ArrayIndexError:\n\u001B[1;32m   2097\u001B[0m     cdata \u001B[38;5;241m=\u001B[39m cdata\u001B[38;5;241m.\u001B[39mread_full()\n\u001B[0;32m-> 2098\u001B[0m chunk \u001B[38;5;241m=\u001B[39m \u001B[38;5;28;43mself\u001B[39;49m\u001B[38;5;241;43m.\u001B[39;49m\u001B[43m_decode_chunk\u001B[49m\u001B[43m(\u001B[49m\u001B[43mcdata\u001B[49m\u001B[43m)\u001B[49m\n\u001B[1;32m   2100\u001B[0m \u001B[38;5;66;03m# select data from chunk\u001B[39;00m\n\u001B[1;32m   2101\u001B[0m \u001B[38;5;28;01mif\u001B[39;00m fields:\n",
      "File \u001B[0;32m~/miniconda/envs/nnunet/lib/python3.10/site-packages/zarr/core.py:2354\u001B[0m, in \u001B[0;36mArray._decode_chunk\u001B[0;34m(self, cdata, start, nitems, expected_shape)\u001B[0m\n\u001B[1;32m   2352\u001B[0m         chunk \u001B[38;5;241m=\u001B[39m \u001B[38;5;28mself\u001B[39m\u001B[38;5;241m.\u001B[39m_compressor\u001B[38;5;241m.\u001B[39mdecode_partial(cdata, start, nitems)\n\u001B[1;32m   2353\u001B[0m     \u001B[38;5;28;01melse\u001B[39;00m:\n\u001B[0;32m-> 2354\u001B[0m         chunk \u001B[38;5;241m=\u001B[39m \u001B[38;5;28;43mself\u001B[39;49m\u001B[38;5;241;43m.\u001B[39;49m\u001B[43m_compressor\u001B[49m\u001B[38;5;241;43m.\u001B[39;49m\u001B[43mdecode\u001B[49m\u001B[43m(\u001B[49m\u001B[43mcdata\u001B[49m\u001B[43m)\u001B[49m\n\u001B[1;32m   2355\u001B[0m \u001B[38;5;28;01melse\u001B[39;00m:\n\u001B[1;32m   2356\u001B[0m     chunk \u001B[38;5;241m=\u001B[39m cdata\n",
      "\u001B[0;31mKeyboardInterrupt\u001B[0m: "
     ]
    }
   ],
   "execution_count": 1
  }
 ],
 "metadata": {
  "kernelspec": {
   "display_name": "Python 3",
   "language": "python",
   "name": "python3"
  },
  "language_info": {
   "codemirror_mode": {
    "name": "ipython",
    "version": 2
   },
   "file_extension": ".py",
   "mimetype": "text/x-python",
   "name": "python",
   "nbconvert_exporter": "python",
   "pygments_lexer": "ipython2",
   "version": "2.7.6"
  }
 },
 "nbformat": 4,
 "nbformat_minor": 5
}
