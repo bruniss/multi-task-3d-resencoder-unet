{
 "cells": [
  {
   "cell_type": "code",
   "id": "initial_id",
   "metadata": {
    "collapsed": true,
    "ExecuteTime": {
     "end_time": "2025-01-12T15:08:19.943572Z",
     "start_time": "2025-01-12T15:08:19.940607Z"
    }
   },
   "source": [
    "import tifffile\n",
    "import zarr"
   ],
   "outputs": [],
   "execution_count": 27
  },
  {
   "metadata": {
    "ExecuteTime": {
     "end_time": "2025-01-11T05:52:00.774Z",
     "start_time": "2025-01-11T05:51:59.299012Z"
    }
   },
   "cell_type": "code",
   "source": [
    "z = zarr.open('/mnt/raid_nvme/inference_out/predictions.zarr', mode='r')\n",
    "print(z.tree())\n",
    "\n",
    "norms = z['normals_final']\n",
    "sheet = z['sheet_final']\n",
    "\n",
    "s_n = norms[:,1000, :, ]\n",
    "s_s = sheet[1000]\n",
    "\n",
    "tifffile.imwrite('s_n.tif', s_n)\n",
    "tifffile.imwrite('s_s.tif', s_s)"
   ],
   "id": "852b190d4ad5d863",
   "outputs": [
    {
     "name": "stdout",
     "output_type": "stream",
     "text": [
      "/\n",
      " ├── normals_count (2000, 1500, 1750) float32\n",
      " ├── normals_final (3, 2000, 1500, 1750) uint16\n",
      " ├── normals_sum (3, 2000, 1500, 1750) float32\n",
      " ├── sheet_count (2000, 1500, 1750) float32\n",
      " ├── sheet_final (2000, 1500, 1750) uint8\n",
      " └── sheet_sum (2000, 1500, 1750) float32\n"
     ]
    }
   ],
   "execution_count": 15
  },
  {
   "metadata": {
    "ExecuteTime": {
     "end_time": "2025-01-12T19:33:17.588956Z",
     "start_time": "2025-01-12T19:31:33.476968Z"
    }
   },
   "cell_type": "code",
   "source": [
    "import zarr\n",
    "import tifffile\n",
    "import os\n",
    "\n",
    "# Open the Zarr array\n",
    "raw = zarr.open(\"/home/sean/Desktop/s1_segments/3336/predictions.zarr\", mode='r')\n",
    "ink = raw['ink_final']\n",
    "\n",
    "# Get the shape of the array\n",
    "z_layers, height, width = ink.shape  # Assuming shape is (Z, Y, X)\n",
    "\n",
    "# Create output directory if it doesn't exist\n",
    "output_dir = \"/home/sean/Desktop/s1_segments/3336/ink_layers\"\n",
    "os.makedirs(output_dir, exist_ok=True)\n",
    "\n",
    "# Iterate through Z layers\n",
    "for z in range(z_layers):\n",
    "    # Read the z-layer\n",
    "    layer = ink[z, :, :]\n",
    "\n",
    "    # Create output filename\n",
    "    output_path = os.path.join(output_dir, f\"{z:04d}.tif\")\n",
    "\n",
    "    # Save as TIFF\n",
    "    tifffile.imwrite(output_path, layer)\n",
    "    print(f\"Saved layer {z} to {output_path}\")"
   ],
   "id": "efc93a4e24883dbc",
   "outputs": [
    {
     "name": "stdout",
     "output_type": "stream",
     "text": [
      "Saved layer 0 to /home/sean/Desktop/s1_segments/3336/ink_layers/0000.tif\n",
      "Saved layer 1 to /home/sean/Desktop/s1_segments/3336/ink_layers/0001.tif\n",
      "Saved layer 2 to /home/sean/Desktop/s1_segments/3336/ink_layers/0002.tif\n",
      "Saved layer 3 to /home/sean/Desktop/s1_segments/3336/ink_layers/0003.tif\n",
      "Saved layer 4 to /home/sean/Desktop/s1_segments/3336/ink_layers/0004.tif\n",
      "Saved layer 5 to /home/sean/Desktop/s1_segments/3336/ink_layers/0005.tif\n",
      "Saved layer 6 to /home/sean/Desktop/s1_segments/3336/ink_layers/0006.tif\n",
      "Saved layer 7 to /home/sean/Desktop/s1_segments/3336/ink_layers/0007.tif\n",
      "Saved layer 8 to /home/sean/Desktop/s1_segments/3336/ink_layers/0008.tif\n",
      "Saved layer 9 to /home/sean/Desktop/s1_segments/3336/ink_layers/0009.tif\n",
      "Saved layer 10 to /home/sean/Desktop/s1_segments/3336/ink_layers/0010.tif\n",
      "Saved layer 11 to /home/sean/Desktop/s1_segments/3336/ink_layers/0011.tif\n",
      "Saved layer 12 to /home/sean/Desktop/s1_segments/3336/ink_layers/0012.tif\n",
      "Saved layer 13 to /home/sean/Desktop/s1_segments/3336/ink_layers/0013.tif\n",
      "Saved layer 14 to /home/sean/Desktop/s1_segments/3336/ink_layers/0014.tif\n",
      "Saved layer 15 to /home/sean/Desktop/s1_segments/3336/ink_layers/0015.tif\n",
      "Saved layer 16 to /home/sean/Desktop/s1_segments/3336/ink_layers/0016.tif\n",
      "Saved layer 17 to /home/sean/Desktop/s1_segments/3336/ink_layers/0017.tif\n",
      "Saved layer 18 to /home/sean/Desktop/s1_segments/3336/ink_layers/0018.tif\n",
      "Saved layer 19 to /home/sean/Desktop/s1_segments/3336/ink_layers/0019.tif\n"
     ]
    }
   ],
   "execution_count": 31
  },
  {
   "metadata": {
    "ExecuteTime": {
     "end_time": "2025-01-11T22:14:28.950657Z",
     "start_time": "2025-01-11T22:14:28.936576Z"
    }
   },
   "cell_type": "code",
   "source": [
    "import shutil\n",
    "import os\n",
    "\n",
    "def copy_and_number(source_image, start_number, num_copies):\n",
    "    # Check if source file exists\n",
    "    if not os.path.exists(source_image):\n",
    "        print(f\"Error: Source file '{source_image}' not found\")\n",
    "        return\n",
    "\n",
    "    # Get the directory and file extension\n",
    "    directory = os.path.dirname(source_image) or '.'\n",
    "    _, ext = os.path.splitext(source_image)\n",
    "\n",
    "    # Create numbered copies\n",
    "    for i in range(num_copies):\n",
    "        new_number = start_number + i\n",
    "        new_filename = f\"{new_number}{ext}\"\n",
    "        new_path = os.path.join(directory, new_filename)\n",
    "\n",
    "        try:\n",
    "            shutil.copy2(source_image, new_path)\n",
    "            print(f\"Created: {new_filename}\")\n",
    "        except Exception as e:\n",
    "            print(f\"Error creating {new_filename}: {e}\")\n",
    "\n",
    "# Example usage\n",
    "if __name__ == \"__main__\":\n",
    "    source_image = \"/home/sean/Desktop/s1_segments/5753/20230702185753_inklabels.png\"\n",
    "    start_number = 1\n",
    "    num_copies =20\n",
    "\n",
    "    copy_and_number(source_image, start_number, num_copies)"
   ],
   "id": "fd4b1a8ab4542b1b",
   "outputs": [
    {
     "name": "stdout",
     "output_type": "stream",
     "text": [
      "Created: 1.png\n",
      "Created: 2.png\n",
      "Created: 3.png\n",
      "Created: 4.png\n",
      "Created: 5.png\n",
      "Created: 6.png\n",
      "Created: 7.png\n",
      "Created: 8.png\n",
      "Created: 9.png\n",
      "Created: 10.png\n",
      "Created: 11.png\n",
      "Created: 12.png\n",
      "Created: 13.png\n",
      "Created: 14.png\n",
      "Created: 15.png\n",
      "Created: 16.png\n",
      "Created: 17.png\n",
      "Created: 18.png\n",
      "Created: 19.png\n",
      "Created: 20.png\n"
     ]
    }
   ],
   "execution_count": 4
  },
  {
   "metadata": {
    "ExecuteTime": {
     "end_time": "2025-01-13T15:39:14.073716Z",
     "start_time": "2025-01-13T15:39:14.058493Z"
    }
   },
   "cell_type": "code",
   "source": [
    "import os\n",
    "import glob\n",
    "import re\n",
    "from tqdm import tqdm\n",
    "\n",
    "def natural_sort_key(s):\n",
    "    return [int(text) if text.isdigit() else text.lower()\n",
    "            for text in re.split(r'([0-9]+)', s)]\n",
    "\n",
    "def check_layers_in_range(parent_folder, start=25, stop=35):\n",
    "    \"\"\"\n",
    "    Go through each segment folder in `parent_folder` (ones that have a 'layers' subdirectory)\n",
    "    and check if the slice indices [start..stop] are valid based on the number of layer files.\n",
    "\n",
    "    If any slice index is out of range, we print a warning message.\n",
    "    \"\"\"\n",
    "\n",
    "    # 1) Find all subdirectories that contain a 'layers' folder\n",
    "    segment_folders = [\n",
    "        f.path for f in os.scandir(parent_folder)\n",
    "        if f.is_dir() and os.path.exists(os.path.join(f.path, 'layers'))\n",
    "    ]\n",
    "\n",
    "    if not segment_folders:\n",
    "        raise ValueError(f\"No valid segment folders found in {parent_folder}\")\n",
    "\n",
    "    print(f\"Found {len(segment_folders)} segment folders to check.\")\n",
    "\n",
    "    # 2) For each segment, gather layer files and sort them the same way\n",
    "    for folder in tqdm(segment_folders, desc=\"Checking segments\"):\n",
    "        seg_name = os.path.basename(folder)\n",
    "        layers_dir = os.path.join(folder, 'layers')\n",
    "\n",
    "        # Collect and sort .tif layer files\n",
    "        layers = glob.glob(os.path.join(layers_dir, '*.tif'))\n",
    "        layers.sort(key=natural_sort_key)\n",
    "\n",
    "        if not layers:\n",
    "            print(f\"WARNING: No .tif files found in {layers_dir}\")\n",
    "            continue\n",
    "\n",
    "        # 3) Determine how many slices we plan to read\n",
    "        num_slices = stop - start + 1\n",
    "\n",
    "        # 4) Check if each requested slice index is within range\n",
    "        #    of the sorted `layers` list\n",
    "        out_of_range = False\n",
    "        for idx in range(num_slices):\n",
    "            file_index = start + idx\n",
    "            if file_index >= len(layers):\n",
    "                # This means we'd \"fall back\" to the last layer file in your original script\n",
    "                print(\n",
    "                    f\"Out-of-range: Segment '{seg_name}' \"\n",
    "                    f\"needs slice index {file_index} but only has {len(layers)} files.\"\n",
    "                )\n",
    "                out_of_range = True\n",
    "                # We don't break here because we may want to see *all* out-of-range indices\n",
    "\n",
    "        # 5) Optional: If you only want to print a single message for each segment\n",
    "        # that has any missing slices, you could do:\n",
    "        if out_of_range:\n",
    "            print(f\" -> Segment '{seg_name}' does NOT have all slices for [{start}..{stop}].\")\n",
    "        else:\n",
    "            print(f\" -> Segment '{seg_name}' is good (has at least {stop+1} files).\")\n",
    "\n",
    "if __name__ == \"__main__\":\n",
    "    parent_folder = \"/home/sean/Desktop/s1_segments/\"\n",
    "    check_layers_in_range(parent_folder, start=25, stop=35)\n"
   ],
   "id": "beae667ed8052215",
   "outputs": [
    {
     "name": "stdout",
     "output_type": "stream",
     "text": [
      "Found 8 segment folders to check.\n"
     ]
    },
    {
     "name": "stderr",
     "output_type": "stream",
     "text": [
      "Checking segments: 100%|██████████| 8/8 [00:00<00:00, 2137.36it/s]"
     ]
    },
    {
     "name": "stdout",
     "output_type": "stream",
     "text": [
      "Out-of-range: Segment '4423' needs slice index 25 but only has 21 files.\n",
      "Out-of-range: Segment '4423' needs slice index 26 but only has 21 files.\n",
      "Out-of-range: Segment '4423' needs slice index 27 but only has 21 files.\n",
      "Out-of-range: Segment '4423' needs slice index 28 but only has 21 files.\n",
      "Out-of-range: Segment '4423' needs slice index 29 but only has 21 files.\n",
      "Out-of-range: Segment '4423' needs slice index 30 but only has 21 files.\n",
      "Out-of-range: Segment '4423' needs slice index 31 but only has 21 files.\n",
      "Out-of-range: Segment '4423' needs slice index 32 but only has 21 files.\n",
      "Out-of-range: Segment '4423' needs slice index 33 but only has 21 files.\n",
      "Out-of-range: Segment '4423' needs slice index 34 but only has 21 files.\n",
      "Out-of-range: Segment '4423' needs slice index 35 but only has 21 files.\n",
      " -> Segment '4423' does NOT have all slices for [25..35].\n",
      "Out-of-range: Segment '0901' needs slice index 25 but only has 21 files.\n",
      "Out-of-range: Segment '0901' needs slice index 26 but only has 21 files.\n",
      "Out-of-range: Segment '0901' needs slice index 27 but only has 21 files.\n",
      "Out-of-range: Segment '0901' needs slice index 28 but only has 21 files.\n",
      "Out-of-range: Segment '0901' needs slice index 29 but only has 21 files.\n",
      "Out-of-range: Segment '0901' needs slice index 30 but only has 21 files.\n",
      "Out-of-range: Segment '0901' needs slice index 31 but only has 21 files.\n",
      "Out-of-range: Segment '0901' needs slice index 32 but only has 21 files.\n",
      "Out-of-range: Segment '0901' needs slice index 33 but only has 21 files.\n",
      "Out-of-range: Segment '0901' needs slice index 34 but only has 21 files.\n",
      "Out-of-range: Segment '0901' needs slice index 35 but only has 21 files.\n",
      " -> Segment '0901' does NOT have all slices for [25..35].\n",
      " -> Segment '0926' is good (has at least 36 files).\n",
      " -> Segment '3336' is good (has at least 36 files).\n",
      "Out-of-range: Segment '1321' needs slice index 25 but only has 21 files.\n",
      "Out-of-range: Segment '1321' needs slice index 26 but only has 21 files.\n",
      "Out-of-range: Segment '1321' needs slice index 27 but only has 21 files.\n",
      "Out-of-range: Segment '1321' needs slice index 28 but only has 21 files.\n",
      "Out-of-range: Segment '1321' needs slice index 29 but only has 21 files.\n",
      "Out-of-range: Segment '1321' needs slice index 30 but only has 21 files.\n",
      "Out-of-range: Segment '1321' needs slice index 31 but only has 21 files.\n",
      "Out-of-range: Segment '1321' needs slice index 32 but only has 21 files.\n",
      "Out-of-range: Segment '1321' needs slice index 33 but only has 21 files.\n",
      "Out-of-range: Segment '1321' needs slice index 34 but only has 21 files.\n",
      "Out-of-range: Segment '1321' needs slice index 35 but only has 21 files.\n",
      " -> Segment '1321' does NOT have all slices for [25..35].\n",
      " -> Segment '51002' is good (has at least 36 files).\n",
      " -> Segment '1619' is good (has at least 36 files).\n",
      "Out-of-range: Segment '5753' needs slice index 25 but only has 21 files.\n",
      "Out-of-range: Segment '5753' needs slice index 26 but only has 21 files.\n",
      "Out-of-range: Segment '5753' needs slice index 27 but only has 21 files.\n",
      "Out-of-range: Segment '5753' needs slice index 28 but only has 21 files.\n",
      "Out-of-range: Segment '5753' needs slice index 29 but only has 21 files.\n",
      "Out-of-range: Segment '5753' needs slice index 30 but only has 21 files.\n",
      "Out-of-range: Segment '5753' needs slice index 31 but only has 21 files.\n",
      "Out-of-range: Segment '5753' needs slice index 32 but only has 21 files.\n",
      "Out-of-range: Segment '5753' needs slice index 33 but only has 21 files.\n",
      "Out-of-range: Segment '5753' needs slice index 34 but only has 21 files.\n",
      "Out-of-range: Segment '5753' needs slice index 35 but only has 21 files.\n",
      " -> Segment '5753' does NOT have all slices for [25..35].\n"
     ]
    },
    {
     "name": "stderr",
     "output_type": "stream",
     "text": [
      "\n"
     ]
    }
   ],
   "execution_count": 1
  },
  {
   "metadata": {
    "ExecuteTime": {
     "end_time": "2025-01-15T02:29:18.647740639Z",
     "start_time": "2025-01-15T02:26:17.625359Z"
    }
   },
   "cell_type": "code",
   "source": [
    "import zarr\n",
    "import numpy as np\n",
    "import cv2\n",
    "import os\n",
    "from tqdm import tqdm\n",
    "import argparse\n",
    "import zarr\n",
    "import numpy as np\n",
    "import cv2\n",
    "import os\n",
    "from tqdm import tqdm\n",
    "import argparse\n",
    "\n",
    "def visualize_normals_slice(normals_sum, counts, z_index, output_path, debug=False):\n",
    "    \"\"\"\n",
    "    Extract a slice from the normals array, average it using counts, and save as an RGB image.\n",
    "    \"\"\"\n",
    "    # Extract the slices\n",
    "    sum_slice = normals_sum[:, z_index, :, :].copy()  # Shape: (3, Y, X)\n",
    "    count_slice = counts[z_index, :, :].copy()        # Shape: (Y, X)\n",
    "\n",
    "    if debug:\n",
    "        print(f\"Before averaging:\")\n",
    "        print(f\"Sum data range: min={sum_slice.min()}, max={sum_slice.max()}\")\n",
    "        print(f\"Count range: min={count_slice.min()}, max={count_slice.max()}\")\n",
    "\n",
    "    # Average the normals by dividing by counts\n",
    "    # Avoid division by zero by masking\n",
    "    mask = count_slice > 0\n",
    "    for c in range(3):\n",
    "        sum_slice[c, mask] /= count_slice[mask]\n",
    "\n",
    "    if debug:\n",
    "        print(f\"\\nAfter averaging:\")\n",
    "        print(f\"Data range: min={sum_slice.min()}, max={sum_slice.max()}\")\n",
    "        for c in range(3):\n",
    "            print(f\"Channel {c}: min={sum_slice[c].min()}, max={sum_slice[c].max()}\")\n",
    "\n",
    "    # Normalize to [-1, 1] range\n",
    "    max_abs = np.abs(sum_slice).max()\n",
    "    if max_abs > 0:\n",
    "        sum_slice /= max_abs\n",
    "\n",
    "    # Convert to [0, 255] range for visualization\n",
    "    # Map [-1, 1] to [0, 255]\n",
    "    normalized = ((sum_slice + 1.0) * 127.5)\n",
    "    normalized = np.clip(normalized, 0, 255).astype(np.uint8)\n",
    "\n",
    "    # Transpose to get (Y, X, 3) for OpenCV\n",
    "    normalized = np.transpose(normalized, (1, 2, 0))\n",
    "\n",
    "    # Convert from RGB to BGR for OpenCV\n",
    "    bgr_slice = cv2.cvtColor(normalized, cv2.COLOR_RGB2BGR)\n",
    "\n",
    "    # Save the image\n",
    "    cv2.imwrite(output_path, bgr_slice)\n",
    "\n",
    "def main():\n",
    "\n",
    "    zarr_path = \"/mnt/raid_nvme/inference_out/10000_105000/predictions.zarr/\"\n",
    "    output_dir = \"/mnt/raid_nvme/normas\"\n",
    "    start_z = 100\n",
    "    end_z = 110\n",
    "\n",
    "\n",
    "    # Create output directory if it doesn't exist\n",
    "    os.makedirs(output_dir, exist_ok=True)\n",
    "\n",
    "    # Open the Zarr arrays\n",
    "    zarr_store = zarr.open(zarr_path, mode='r')\n",
    "    normals_sum = zarr_store['normals_sum']\n",
    "    normals_count = zarr_store['normals_count']\n",
    "\n",
    "    # Get array dimensions\n",
    "    if len(normals_sum.shape) != 4:\n",
    "        raise ValueError(\"Expected normals_sum to have shape (3, Z, Y, X)\")\n",
    "\n",
    "    _, z_dim, _, _ = normals_sum.shape\n",
    "\n",
    "    # Set slice range\n",
    "    start_z = start_z if start_z is not None else 0\n",
    "    end_z = end_z if end_z is not None else z_dim\n",
    "\n",
    "    # Process each Z slice\n",
    "    for z in tqdm(range(start_z, end_z), desc=\"Processing Z slices\"):\n",
    "        output_path = os.path.join(output_dir, f\"normals_slice_{z:04d}.jpg\")\n",
    "        visualize_normals_slice(normals_sum, normals_count, z, output_path, debug=True)\n",
    "\n",
    "if __name__ == \"__main__\":\n",
    "    main()"
   ],
   "id": "874cd50b21218f61",
   "outputs": [
    {
     "name": "stderr",
     "output_type": "stream",
     "text": [
      "Processing Z slices:   0%|          | 0/10 [00:00<?, ?it/s]"
     ]
    },
    {
     "name": "stdout",
     "output_type": "stream",
     "text": [
      "Before averaging:\n",
      "Sum data range: min=-11152.3291015625, max=1722.20361328125\n",
      "Count range: min=1.0, max=4.0\n",
      "\n",
      "After averaging:\n",
      "Data range: min=-11152.3291015625, max=1722.20361328125\n",
      "Channel 0: min=-11152.3291015625, max=1722.20361328125\n",
      "Channel 1: min=-9788.947265625, max=1446.1319580078125\n",
      "Channel 2: min=-10775.123046875, max=631.9224243164062\n"
     ]
    },
    {
     "name": "stderr",
     "output_type": "stream",
     "text": [
      "Processing Z slices:  10%|█         | 1/10 [01:37<14:40, 97.81s/it]"
     ]
    }
   ],
   "execution_count": null
  }
 ],
 "metadata": {
  "kernelspec": {
   "display_name": "Python 3",
   "language": "python",
   "name": "python3"
  },
  "language_info": {
   "codemirror_mode": {
    "name": "ipython",
    "version": 2
   },
   "file_extension": ".py",
   "mimetype": "text/x-python",
   "name": "python",
   "nbconvert_exporter": "python",
   "pygments_lexer": "ipython2",
   "version": "2.7.6"
  }
 },
 "nbformat": 4,
 "nbformat_minor": 5
}
