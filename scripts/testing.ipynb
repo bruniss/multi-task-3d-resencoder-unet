{
 "cells": [
  {
   "cell_type": "code",
   "id": "initial_id",
   "metadata": {
    "collapsed": true,
    "ExecuteTime": {
     "end_time": "2025-01-11T05:33:34.554071Z",
     "start_time": "2025-01-11T05:33:34.551319Z"
    }
   },
   "source": [
    "import tifffile\n",
    "import zarr"
   ],
   "outputs": [],
   "execution_count": 7
  },
  {
   "metadata": {
    "ExecuteTime": {
     "end_time": "2025-01-11T05:52:00.774Z",
     "start_time": "2025-01-11T05:51:59.299012Z"
    }
   },
   "cell_type": "code",
   "source": [
    "z = zarr.open('/mnt/raid_nvme/inference_out/predictions.zarr', mode='r')\n",
    "print(z.tree())\n",
    "\n",
    "norms = z['normals_final']\n",
    "sheet = z['sheet_final']\n",
    "\n",
    "s_n = norms[:,1000, :, ]\n",
    "s_s = sheet[1000]\n",
    "\n",
    "tifffile.imwrite('s_n.tif', s_n)\n",
    "tifffile.imwrite('s_s.tif', s_s)"
   ],
   "id": "852b190d4ad5d863",
   "outputs": [
    {
     "name": "stdout",
     "output_type": "stream",
     "text": [
      "/\n",
      " ├── normals_count (2000, 1500, 1750) float32\n",
      " ├── normals_final (3, 2000, 1500, 1750) uint16\n",
      " ├── normals_sum (3, 2000, 1500, 1750) float32\n",
      " ├── sheet_count (2000, 1500, 1750) float32\n",
      " ├── sheet_final (2000, 1500, 1750) uint8\n",
      " └── sheet_sum (2000, 1500, 1750) float32\n"
     ]
    }
   ],
   "execution_count": 15
  },
  {
   "metadata": {
    "ExecuteTime": {
     "end_time": "2025-01-11T05:52:04.417949Z",
     "start_time": "2025-01-11T05:52:03.247882Z"
    }
   },
   "cell_type": "code",
   "source": [
    "raw = zarr.open('/mnt/raid_nvme/s1_cutout_outer.zarr', mode='r')\n",
    "s_r = raw[1000]\n",
    "tifffile.imwrite('s_r.tif', s_r)"
   ],
   "id": "efc93a4e24883dbc",
   "outputs": [],
   "execution_count": 16
  },
  {
   "metadata": {
    "ExecuteTime": {
     "end_time": "2025-01-11T05:49:38.186834Z",
     "start_time": "2025-01-11T05:49:38.178905Z"
    }
   },
   "cell_type": "code",
   "source": [
    "import shutil\n",
    "import os\n",
    "\n",
    "def copy_and_number(source_image, start_number, num_copies):\n",
    "    # Check if source file exists\n",
    "    if not os.path.exists(source_image):\n",
    "        print(f\"Error: Source file '{source_image}' not found\")\n",
    "        return\n",
    "\n",
    "    # Get the directory and file extension\n",
    "    directory = os.path.dirname(source_image) or '.'\n",
    "    _, ext = os.path.splitext(source_image)\n",
    "\n",
    "    # Create numbered copies\n",
    "    for i in range(num_copies):\n",
    "        new_number = start_number + i\n",
    "        new_filename = f\"{new_number}{ext}\"\n",
    "        new_path = os.path.join(directory, new_filename)\n",
    "\n",
    "        try:\n",
    "            shutil.copy2(source_image, new_path)\n",
    "            print(f\"Created: {new_filename}\")\n",
    "        except Exception as e:\n",
    "            print(f\"Error creating {new_filename}: {e}\")\n",
    "\n",
    "# Example usage\n",
    "if __name__ == \"__main__\":\n",
    "    source_image = \"/mnt/raid_hdd/s1_segments/5753/20230702185753_inklabels.png\"\n",
    "    start_number = 1\n",
    "    num_copies =10\n",
    "\n",
    "    copy_and_number(source_image, start_number, num_copies)"
   ],
   "id": "fd4b1a8ab4542b1b",
   "outputs": [
    {
     "name": "stdout",
     "output_type": "stream",
     "text": [
      "Created: 1.png\n",
      "Created: 2.png\n",
      "Created: 3.png\n",
      "Created: 4.png\n",
      "Created: 5.png\n",
      "Created: 6.png\n",
      "Created: 7.png\n",
      "Created: 8.png\n",
      "Created: 9.png\n",
      "Created: 10.png\n"
     ]
    }
   ],
   "execution_count": 14
  }
 ],
 "metadata": {
  "kernelspec": {
   "display_name": "Python 3",
   "language": "python",
   "name": "python3"
  },
  "language_info": {
   "codemirror_mode": {
    "name": "ipython",
    "version": 2
   },
   "file_extension": ".py",
   "mimetype": "text/x-python",
   "name": "python",
   "nbconvert_exporter": "python",
   "pygments_lexer": "ipython2",
   "version": "2.7.6"
  }
 },
 "nbformat": 4,
 "nbformat_minor": 5
}
