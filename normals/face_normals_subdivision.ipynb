{
 "cells": [
  {
   "cell_type": "code",
   "id": "initial_id",
   "metadata": {
    "collapsed": true,
    "ExecuteTime": {
     "end_time": "2025-01-04T05:53:13.345439Z",
     "start_time": "2025-01-04T05:53:13.331365Z"
    }
   },
   "source": [
    "from glob import glob\n",
    "import numpy as np\n",
    "import open3d as o3d\n",
    "import os\n",
    "import tifffile\n",
    "from PIL import Image\n",
    "\n",
    "out_path = \"face_normals_subdivision\"\n",
    "viz_path = f'{out_path}/viz'\n",
    "os.makedirs(viz_path, exist_ok=True)\n",
    "os.makedirs(out_path, exist_ok=True)"
   ],
   "outputs": [],
   "execution_count": 5
  },
  {
   "metadata": {
    "ExecuteTime": {
     "end_time": "2025-01-04T05:53:39.353109575Z",
     "start_time": "2025-01-04T05:53:15.501253Z"
    }
   },
   "cell_type": "code",
   "source": [
    "w, h = 8096, 7888\n",
    "# meshes = glob('../../scroll1_gp_meshes/*.obj')\n",
    "meshes = glob('../../scroll1_gp_meshes/*.obj')\n",
    "\n",
    "all_coords = []\n",
    "all_norms = []\n",
    "\n",
    "for mesh_path in meshes:\n",
    "    mesh = o3d.io.read_triangle_mesh(mesh_path)\n",
    "    subdivided_mesh = mesh.subdivide_midpoint(number_of_iterations=4)\n",
    "    vertices = np.asarray(subdivided_mesh.vertices, dtype=np.float32)\n",
    "    triangles = np.asarray(subdivided_mesh.triangles)\n",
    "\n",
    "    v0 = vertices[triangles[:, 0]]\n",
    "    v1 = vertices[triangles[:, 1]]\n",
    "    v2 = vertices[triangles[:, 2]]\n",
    "\n",
    "    face_normals = np.cross(v1 - v0, v2 - v0)\n",
    "    face_normals = face_normals / np.linalg.norm(face_normals, axis=1, keepdims=True)\n",
    "    face_normals = face_normals.astype(np.float32)\n",
    "    face_centers = ((v0 + v1 + v2) / 3).astype(np.float32)\n",
    "\n",
    "    all_coords.append(face_centers)\n",
    "    all_norms.append(face_normals)\n",
    "\n",
    "# Combine all points and normals\n",
    "coords = np.vstack(all_coords)\n",
    "norms = np.vstack(all_norms)"
   ],
   "id": "ae7e4a8da10967c4",
   "outputs": [],
   "execution_count": null
  },
  {
   "metadata": {
    "ExecuteTime": {
     "end_time": "2025-01-04T05:01:52.458514Z",
     "start_time": "2025-01-04T05:01:22.784740Z"
    }
   },
   "cell_type": "code",
   "source": [
    "rounded_z = np.round(coords[:,2]).astype(int)\n",
    "req_slices = np.unique(rounded_z)\n",
    "print(f\"Will process slices from {req_slices.min()} to {req_slices.max()}\")\n",
    "print(f\"Total number of slices: {len(req_slices)}\")"
   ],
   "id": "9b599e7e427b6fb5",
   "outputs": [
    {
     "name": "stdout",
     "output_type": "stream",
     "text": [
      "Will process slices from 10004 to 10998\n",
      "Total number of slices: 995\n"
     ]
    }
   ],
   "execution_count": 3
  },
  {
   "metadata": {
    "ExecuteTime": {
     "end_time": "2025-01-04T05:11:36.123343Z",
     "start_time": "2025-01-04T05:01:59.667925Z"
    }
   },
   "cell_type": "code",
   "source": [
    "\n",
    "for i in range(0, len(meshes), 2):\n",
    "    batch_meshes = meshes[i:i+2]\n",
    "    print(f\"Processing batch {i//2 + 1} of {(len(meshes) + 1)//2}\")\n",
    "\n",
    "    all_coords = []\n",
    "    all_norms = []\n",
    "\n",
    "    for mesh_path in batch_meshes:\n",
    "        print(f\"Processing mesh: {os.path.basename(mesh_path)}\")\n",
    "        mesh = o3d.io.read_triangle_mesh(mesh_path)\n",
    "        subdivided_mesh = mesh.subdivide_midpoint(number_of_iterations=4)\n",
    "        vertices = np.asarray(subdivided_mesh.vertices, dtype=np.float32)\n",
    "        triangles = np.asarray(subdivided_mesh.triangles)\n",
    "\n",
    "        v0 = vertices[triangles[:, 0]]\n",
    "        v1 = vertices[triangles[:, 1]]\n",
    "        v2 = vertices[triangles[:, 2]]\n",
    "\n",
    "        face_normals = np.cross(v1 - v0, v2 - v0)\n",
    "        face_normals = face_normals / np.linalg.norm(face_normals, axis=1, keepdims=True)\n",
    "        face_normals = face_normals.astype(np.float32)\n",
    "        face_centers = ((v0 + v1 + v2) / 3).astype(np.float32)\n",
    "\n",
    "        all_coords.append(face_centers)\n",
    "        all_norms.append(face_normals)\n",
    "\n",
    "        del subdivided_mesh, vertices, triangles\n",
    "\n",
    "    # Combine points and normals for this batch\n",
    "    coords = np.vstack(all_coords)\n",
    "    norms = np.vstack(all_norms)\n",
    "\n",
    "    rounded_z = np.round(coords[:,2]).astype(int)\n",
    "    req_slices = np.unique(rounded_z)\n",
    "\n",
    "    print(f\"Processing slices from {req_slices.min()} to {req_slices.max()}\")\n",
    "    print(f\"Total slices in batch: {len(req_slices)}\")\n",
    "\n",
    "    exp_factor = 2.0\n",
    "\n",
    "    for zslice in req_slices:\n",
    "        # Load existing images if they exist\n",
    "        if os.path.exists(f'{out_path}/{zslice}.tif'):\n",
    "            img = tifffile.imread(f'{out_path}/{zslice}.tif')\n",
    "            viz_img = np.array(Image.open(f'{viz_path}/{zslice}.jpg'))\n",
    "        else:\n",
    "            img = np.zeros((h, w, 3), dtype=np.uint16)\n",
    "            viz_img = np.zeros((h, w, 3), dtype=np.uint8)\n",
    "\n",
    "        mask = rounded_z == zslice\n",
    "        slice_points = coords[mask]\n",
    "        normals = norms[mask]\n",
    "        print(f\"Processing slice {zslice} with {len(slice_points)} points\")\n",
    "\n",
    "        if len(slice_points) > 0:\n",
    "            for i in range(len(slice_points)):\n",
    "                x = int(round(slice_points[i, 0]))\n",
    "                y = int(round(slice_points[i, 1]))\n",
    "\n",
    "                normal = normals[i] / np.linalg.norm(normals[i])\n",
    "                normal_rgb = ((normal + 1) * 32767.5).astype(np.uint16)\n",
    "                normal_viz = (np.abs(normal) * 255).astype(np.uint8)\n",
    "\n",
    "                num_steps = int(2 * exp_factor + 1)\n",
    "                for t in np.linspace(-exp_factor, exp_factor, num_steps):\n",
    "                    new_x = int(round(x + t * normal[0]))\n",
    "                    new_y = int(round(y + t * normal[1]))\n",
    "                    if 0 <= new_x < w and 0 <= new_y < h:\n",
    "                        img[new_y, new_x] = normal_rgb\n",
    "                        viz_img[new_y, new_x] = normal_viz\n",
    "\n",
    "            tifffile.imwrite(f'{out_path}/{zslice}.tif', img, compression='zlib')\n",
    "            Image.fromarray(viz_img).save(f'{viz_path}/{zslice}.jpg', quality=90)\n",
    "\n",
    "    # Clear batch data\n",
    "    del coords, norms, all_coords, all_norms"
   ],
   "id": "fcf146403b424c52",
   "outputs": [
    {
     "name": "stdout",
     "output_type": "stream",
     "text": [
      "Processing slice 10004 with 112 points\n",
      "Processing slice 10005 with 1296 points\n",
      "Processing slice 10006 with 8837 points\n",
      "Processing slice 10007 with 36642 points\n",
      "Processing slice 10008 with 94317 points\n",
      "Processing slice 10009 with 140839 points\n",
      "Processing slice 10010 with 157063 points\n",
      "Processing slice 10011 with 159125 points\n",
      "Processing slice 10012 with 159488 points\n",
      "Processing slice 10013 with 158559 points\n",
      "Processing slice 10014 with 158522 points\n",
      "Processing slice 10015 with 157024 points\n",
      "Processing slice 10016 with 156947 points\n",
      "Processing slice 10017 with 155372 points\n",
      "Processing slice 10018 with 155347 points\n",
      "Processing slice 10019 with 153921 points\n",
      "Processing slice 10020 with 153825 points\n",
      "Processing slice 10021 with 152949 points\n",
      "Processing slice 10022 with 153545 points\n",
      "Processing slice 10023 with 153162 points\n",
      "Processing slice 10024 with 154998 points\n",
      "Processing slice 10025 with 155048 points\n",
      "Processing slice 10026 with 157469 points\n",
      "Processing slice 10027 with 157358 points\n",
      "Processing slice 10028 with 158803 points\n",
      "Processing slice 10029 with 158271 points\n",
      "Processing slice 10030 with 159256 points\n",
      "Processing slice 10031 with 157922 points\n",
      "Processing slice 10032 with 158520 points\n"
     ]
    },
    {
     "ename": "KeyboardInterrupt",
     "evalue": "",
     "output_type": "error",
     "traceback": [
      "\u001B[0;31m---------------------------------------------------------------------------\u001B[0m",
      "\u001B[0;31mKeyboardInterrupt\u001B[0m                         Traceback (most recent call last)",
      "Cell \u001B[0;32mIn[4], line 13\u001B[0m\n\u001B[1;32m     11\u001B[0m \u001B[38;5;28;01mif\u001B[39;00m \u001B[38;5;28mlen\u001B[39m(slice_points) \u001B[38;5;241m>\u001B[39m \u001B[38;5;241m0\u001B[39m:\n\u001B[1;32m     12\u001B[0m     \u001B[38;5;28;01mfor\u001B[39;00m i \u001B[38;5;129;01min\u001B[39;00m \u001B[38;5;28mrange\u001B[39m(\u001B[38;5;28mlen\u001B[39m(slice_points)):\n\u001B[0;32m---> 13\u001B[0m         x \u001B[38;5;241m=\u001B[39m \u001B[38;5;28mint\u001B[39m(\u001B[38;5;28;43mround\u001B[39;49m\u001B[43m(\u001B[49m\u001B[43mslice_points\u001B[49m\u001B[43m[\u001B[49m\u001B[43mi\u001B[49m\u001B[43m,\u001B[49m\u001B[43m \u001B[49m\u001B[38;5;241;43m0\u001B[39;49m\u001B[43m]\u001B[49m\u001B[43m)\u001B[49m)\n\u001B[1;32m     14\u001B[0m         y \u001B[38;5;241m=\u001B[39m \u001B[38;5;28mint\u001B[39m(\u001B[38;5;28mround\u001B[39m(slice_points[i, \u001B[38;5;241m1\u001B[39m]))\n\u001B[1;32m     16\u001B[0m         normal \u001B[38;5;241m=\u001B[39m normals[i] \u001B[38;5;241m/\u001B[39m np\u001B[38;5;241m.\u001B[39mlinalg\u001B[38;5;241m.\u001B[39mnorm(normals[i])\n",
      "\u001B[0;31mKeyboardInterrupt\u001B[0m: "
     ]
    }
   ],
   "execution_count": 4
  },
  {
   "metadata": {
    "ExecuteTime": {
     "end_time": "2025-01-05T23:59:15.119430Z",
     "start_time": "2025-01-05T23:59:15.050158Z"
    }
   },
   "cell_type": "code",
   "source": [
    "import numpy as np\n",
    "import tifffile as tiff\n",
    "\n",
    "def calculate_nonzero_percentage(tiff_path):\n",
    "    \"\"\"\n",
    "    Calculate the percentage of nonzero voxels in a multipage TIFF file.\n",
    "\n",
    "    Parameters:\n",
    "        tiff_path (str): Path to the multipage TIFF file.\n",
    "\n",
    "    Returns:\n",
    "        float: Percentage of nonzero voxels in the volume.\n",
    "    \"\"\"\n",
    "    # Load the multipage TIFF file\n",
    "    with tiff.TiffFile(tiff_path) as tif:\n",
    "        volume = tif.asarray()\n",
    "\n",
    "    # Ensure the data is loaded as a numpy array\n",
    "    if not isinstance(volume, np.ndarray):\n",
    "        raise ValueError(\"Failed to load the TIFF file as a numpy array.\")\n",
    "\n",
    "    # Count nonzero voxels\n",
    "    nonzero_count = np.count_nonzero(volume)\n",
    "\n",
    "    # Calculate total number of voxels\n",
    "    total_voxels = volume.size\n",
    "\n",
    "    # Calculate percentage\n",
    "    percentage = (nonzero_count / total_voxels) * 100\n",
    "\n",
    "    return percentage\n",
    "\n",
    "if __name__ == \"__main__\":\n",
    "    # Path to your multipage TIFF file\n",
    "    tiff_path = \"/mnt/raid_nvme/datasets/nnUNet_raw/Dataset055_ScaledImages/labelsTr/chunk05_cell_yxz_009_006_021.tif\"\n",
    "\n",
    "    try:\n",
    "        percentage = calculate_nonzero_percentage(tiff_path)\n",
    "        print(f\"Percentage of nonzero voxels in the volume: {percentage:.2f}%\")\n",
    "    except Exception as e:\n",
    "        print(f\"An error occurred: {e}\")\n"
   ],
   "id": "62df0f9922f17746",
   "outputs": [
    {
     "name": "stdout",
     "output_type": "stream",
     "text": [
      "Percentage of nonzero voxels in the volume: 11.85%\n"
     ]
    }
   ],
   "execution_count": 6
  },
  {
   "metadata": {
    "ExecuteTime": {
     "end_time": "2025-01-10T04:28:21.025Z",
     "start_time": "2025-01-10T04:28:07.827047Z"
    }
   },
   "cell_type": "code",
   "source": [
    "import zarr\n",
    "import tifffile\n",
    "\n",
    "z = zarr.open('/mnt/raid_nvme/s1.zarr', mode='r')\n",
    "zs = z[5000]\n",
    "tifffile.imwrite('/home/sean/Desktop/raws1.tif',zs)"
   ],
   "id": "7b2c75afd8fceb18",
   "outputs": [],
   "execution_count": 10
  }
 ],
 "metadata": {
  "kernelspec": {
   "display_name": "Python 3",
   "language": "python",
   "name": "python3"
  },
  "language_info": {
   "codemirror_mode": {
    "name": "ipython",
    "version": 2
   },
   "file_extension": ".py",
   "mimetype": "text/x-python",
   "name": "python",
   "nbconvert_exporter": "python",
   "pygments_lexer": "ipython2",
   "version": "2.7.6"
  }
 },
 "nbformat": 4,
 "nbformat_minor": 5
}
